{
 "cells": [
  {
   "cell_type": "code",
   "execution_count": 3,
   "metadata": {},
   "outputs": [],
   "source": [
    "import json\n",
    "from tqdm import tqdm\n",
    "import requests\n",
    "from bs4 import BeautifulSoup\n",
    "import os\n",
    "import requests"
   ]
  },
  {
   "cell_type": "markdown",
   "metadata": {},
   "source": [
    "# Download All Tournament Games"
   ]
  },
  {
   "cell_type": "code",
   "execution_count": 181,
   "metadata": {},
   "outputs": [],
   "source": [
    "loaded_tournaments = {}\n",
    "for file in os.listdir(\"../Data/Games\"):\n",
    "    tournament = \"_\".join(file.split(\"_\")[0].split(\"-\")[:-1])\n",
    "    if tournament not in loaded_tournaments:\n",
    "        loaded_tournaments[tournament] = 0\n",
    "    loaded_tournaments[tournament] += 1"
   ]
  },
  {
   "cell_type": "code",
   "execution_count": 4,
   "metadata": {},
   "outputs": [],
   "source": [
    "def downloadTournament(link, tournament):\n",
    "    skipped = 0\n",
    "    print(\"\\033[32mDownloading {} games\\033[0m\".format(tournament))\n",
    "    \n",
    "    page = 1\n",
    "    all_games = set()\n",
    "\n",
    "    while True:\n",
    "        if page > 1000:\n",
    "            break\n",
    "        paginated_link = f\"{link}?&players={page}\"\n",
    "        ht = requests.get(paginated_link)\n",
    "        soup = BeautifulSoup(ht.content, 'html.parser')\n",
    "        hrefs = soup.find_all('a', href=True)\n",
    "        games = [x[\"href\"] for x in hrefs if \"game\" in x['href']]\n",
    "        games = set(games)\n",
    "        if len(games) == 0:\n",
    "            break\n",
    "        \n",
    "        # Check if all games are already in all_games\n",
    "        if all([x in all_games for x in games]):\n",
    "            break\n",
    "\n",
    "        # Add to all_games\n",
    "        all_games = all_games.union(games)\n",
    "        page += 1\n",
    "        print(f\"\\033[32mPage {page} ({len(games)}) loaded.\\033[0m\", end = \"\")\n",
    "\n",
    "    if len(all_games) == 0:\n",
    "        print(f\"\\033[31mNo games found for {tournament}\\033[0m\")\n",
    "        return\n",
    "\n",
    "    for game in tqdm(all_games, desc=f\"Games in {tournament}\", leave=False):\n",
    "        id = game.split(\"/\")[-1]\n",
    "        if os.path.exists(f\"../Data/Games/{tournament}_{id}.json\"):\n",
    "            skipped += 1\n",
    "            continue\n",
    "\n",
    "        first_game = \"https://www.chess.com/callback/live/game/\" + id\n",
    "        ht = requests.get(first_game)\n",
    "        game_data = ht.json()\n",
    "        with open(f\"../Data/Games/{tournament}_{id}.json\", \"w\") as f:\n",
    "            json.dump(game_data, f)\n",
    "\n",
    "    print(\"\\033[31mDownloaded {} games and skipped {}\\033[0m\".format(len(all_games), skipped))\n"
   ]
  },
  {
   "cell_type": "code",
   "execution_count": 5,
   "metadata": {},
   "outputs": [],
   "source": [
    "tournaments = []\n",
    "\n",
    "tournaments_link = f\"https://www.chess.com/tournament/live/titled-tuesdays?&page=\"\n",
    "for i in range(1,7):\n",
    "    ht = requests.get(tournaments_link + str(i))\n",
    "    soup = BeautifulSoup(ht.content, 'html.parser')\n",
    "    hrefs = soup.find_all('a', href=True)\n",
    "    links = [x[\"href\"] for x in hrefs if \"tournament\" in x['href'] and \"returnUrl\" not in x[\"href\"]]\n",
    "\n",
    "    for url in set(links):\n",
    "        if 'chess.com/tournament/live/' in url and 'titled-tuesday' in url:\n",
    "            parts = url.split('/')\n",
    "            name = parts[-1]\n",
    "            date = '-'.join(name.split('-')[-4:-1])\n",
    "            tournaments.append({'url': url, 'name': name, 'date': date})"
   ]
  },
  {
   "cell_type": "code",
   "execution_count": 10,
   "metadata": {},
   "outputs": [
    {
     "name": "stdout",
     "output_type": "stream",
     "text": [
      "\u001b[32mDownloading early-titled-tuesday-blitz-august-01-2023-4198579 games\u001b[0m\n",
      "\u001b[32mPage 2 (239) loaded.\u001b[0m\u001b[32mPage 3 (272) loaded.\u001b[0m\u001b[32mPage 4 (280) loaded.\u001b[0m\u001b[32mPage 5 (282) loaded.\u001b[0m\u001b[32mPage 6 (288) loaded.\u001b[0m\u001b[32mPage 7 (290) loaded.\u001b[0m\u001b[32mPage 8 (280) loaded.\u001b[0m\u001b[32mPage 9 (292) loaded.\u001b[0m\u001b[32mPage 10 (289) loaded.\u001b[0m\u001b[32mPage 11 (271) loaded.\u001b[0m\u001b[32mPage 12 (280) loaded.\u001b[0m\u001b[32mPage 13 (271) loaded.\u001b[0m\u001b[32mPage 14 (275) loaded.\u001b[0m\u001b[32mPage 15 (215) loaded.\u001b[0m\u001b[32mPage 16 (134) loaded.\u001b[0m\u001b[32mPage 17 (227) loaded.\u001b[0m\u001b[32mPage 18 (204) loaded.\u001b[0m\u001b[32mPage 19 (172) loaded.\u001b[0m\u001b[32mPage 20 (190) loaded.\u001b[0m\u001b[32mPage 21 (155) loaded.\u001b[0m\u001b[32mPage 22 (106) loaded.\u001b[0m\u001b[32mPage 23 (109) loaded.\u001b[0m"
     ]
    },
    {
     "name": "stderr",
     "output_type": "stream",
     "text": [
      "                                                                                                    \r"
     ]
    },
    {
     "name": "stdout",
     "output_type": "stream",
     "text": [
      "\u001b[31mDownloaded 2439 games and skipped 2439\u001b[0m\n",
      "\u001b[32mDownloading late-titled-tuesday-blitz-august-15-2023-4225474 games\u001b[0m\n",
      "\u001b[32mPage 2 (240) loaded.\u001b[0m\u001b[32mPage 3 (271) loaded.\u001b[0m\u001b[32mPage 4 (273) loaded.\u001b[0m\u001b[32mPage 5 (281) loaded.\u001b[0m\u001b[32mPage 6 (277) loaded.\u001b[0m\u001b[32mPage 7 (284) loaded.\u001b[0m\u001b[32mPage 8 (273) loaded.\u001b[0m\u001b[32mPage 9 (266) loaded.\u001b[0m\u001b[32mPage 10 (227) loaded.\u001b[0m\u001b[32mPage 11 (159) loaded.\u001b[0m\u001b[32mPage 12 (210) loaded.\u001b[0m\u001b[32mPage 13 (183) loaded.\u001b[0m\u001b[32mPage 14 (174) loaded.\u001b[0m\u001b[32mPage 15 (120) loaded.\u001b[0m\u001b[32mPage 16 (96) loaded.\u001b[0m"
     ]
    },
    {
     "name": "stderr",
     "output_type": "stream",
     "text": [
      "                                                                                                   \r"
     ]
    },
    {
     "name": "stdout",
     "output_type": "stream",
     "text": [
      "\u001b[31mDownloaded 1625 games and skipped 1625\u001b[0m\n",
      "\u001b[32mDownloading early-titled-tuesday-blitz-september-05-2023-4265728 games\u001b[0m\n",
      "\u001b[32mPage 2 (245) loaded.\u001b[0m\u001b[32mPage 3 (275) loaded.\u001b[0m\u001b[32mPage 4 (281) loaded.\u001b[0m\u001b[32mPage 5 (290) loaded.\u001b[0m\u001b[32mPage 6 (290) loaded.\u001b[0m\u001b[32mPage 7 (289) loaded.\u001b[0m\u001b[32mPage 8 (281) loaded.\u001b[0m\u001b[32mPage 9 (280) loaded.\u001b[0m\u001b[32mPage 10 (289) loaded.\u001b[0m\u001b[32mPage 11 (277) loaded.\u001b[0m\u001b[32mPage 12 (272) loaded.\u001b[0m\u001b[32mPage 13 (263) loaded.\u001b[0m\u001b[32mPage 14 (273) loaded.\u001b[0m\u001b[32mPage 15 (219) loaded.\u001b[0m\u001b[32mPage 16 (148) loaded.\u001b[0m\u001b[32mPage 17 (173) loaded.\u001b[0m\u001b[32mPage 18 (233) loaded.\u001b[0m\u001b[32mPage 19 (198) loaded.\u001b[0m\u001b[32mPage 20 (182) loaded.\u001b[0m\u001b[32mPage 21 (167) loaded.\u001b[0m\u001b[32mPage 22 (139) loaded.\u001b[0m\u001b[32mPage 23 (116) loaded.\u001b[0m\u001b[32mPage 24 (117) loaded.\u001b[0m\u001b[32mPage 25 (66) loaded.\u001b[0m"
     ]
    },
    {
     "name": "stderr",
     "output_type": "stream",
     "text": [
      "                                                                                                       \r"
     ]
    },
    {
     "name": "stdout",
     "output_type": "stream",
     "text": [
      "\u001b[31mDownloaded 2539 games and skipped 2539\u001b[0m\n",
      "\u001b[32mDownloading early-titled-tuesday-blitz-august-08-2023-4212115 games\u001b[0m\n",
      "\u001b[32mPage 2 (245) loaded.\u001b[0m\u001b[32mPage 3 (271) loaded.\u001b[0m\u001b[32mPage 4 (276) loaded.\u001b[0m\u001b[32mPage 5 (284) loaded.\u001b[0m\u001b[32mPage 6 (292) loaded.\u001b[0m\u001b[32mPage 7 (291) loaded.\u001b[0m\u001b[32mPage 8 (286) loaded.\u001b[0m\u001b[32mPage 9 (281) loaded.\u001b[0m\u001b[32mPage 10 (284) loaded.\u001b[0m\u001b[32mPage 11 (278) loaded.\u001b[0m\u001b[32mPage 12 (283) loaded.\u001b[0m\u001b[32mPage 13 (290) loaded.\u001b[0m\u001b[32mPage 14 (252) loaded.\u001b[0m\u001b[32mPage 15 (231) loaded.\u001b[0m\u001b[32mPage 16 (190) loaded.\u001b[0m\u001b[32mPage 17 (110) loaded.\u001b[0m\u001b[32mPage 18 (225) loaded.\u001b[0m\u001b[32mPage 19 (210) loaded.\u001b[0m\u001b[32mPage 20 (197) loaded.\u001b[0m\u001b[32mPage 21 (162) loaded.\u001b[0m\u001b[32mPage 22 (150) loaded.\u001b[0m\u001b[32mPage 23 (102) loaded.\u001b[0m\u001b[32mPage 24 (105) loaded.\u001b[0m"
     ]
    },
    {
     "name": "stderr",
     "output_type": "stream",
     "text": [
      "                                                                                                    \r"
     ]
    },
    {
     "name": "stdout",
     "output_type": "stream",
     "text": [
      "\u001b[31mDownloaded 2528 games and skipped 2528\u001b[0m\n",
      "\u001b[32mDownloading late-titled-tuesday-blitz-august-08-2023-4212116 games\u001b[0m\n",
      "\u001b[32mPage 2 (240) loaded.\u001b[0m\u001b[32mPage 3 (262) loaded.\u001b[0m\u001b[32mPage 4 (277) loaded.\u001b[0m\u001b[32mPage 5 (279) loaded.\u001b[0m\u001b[32mPage 6 (286) loaded.\u001b[0m\u001b[32mPage 7 (281) loaded.\u001b[0m\u001b[32mPage 8 (254) loaded.\u001b[0m\u001b[32mPage 9 (264) loaded.\u001b[0m\u001b[32mPage 10 (236) loaded.\u001b[0m\u001b[32mPage 11 (147) loaded.\u001b[0m\u001b[32mPage 12 (198) loaded.\u001b[0m\u001b[32mPage 13 (211) loaded.\u001b[0m\u001b[32mPage 14 (183) loaded.\u001b[0m\u001b[32mPage 15 (168) loaded.\u001b[0m\u001b[32mPage 16 (155) loaded.\u001b[0m\u001b[32mPage 17 (107) loaded.\u001b[0m\u001b[32mPage 18 (96) loaded.\u001b[0m"
     ]
    },
    {
     "name": "stderr",
     "output_type": "stream",
     "text": [
      "                                                                                                   \r"
     ]
    },
    {
     "name": "stdout",
     "output_type": "stream",
     "text": [
      "\u001b[31mDownloaded 1747 games and skipped 1747\u001b[0m\n",
      "\u001b[32mDownloading late-titled-tuesday-blitz-june-27-2023-4111412 games\u001b[0m\n",
      "\u001b[32mPage 2 (242) loaded.\u001b[0m\u001b[32mPage 3 (266) loaded.\u001b[0m\u001b[32mPage 4 (272) loaded.\u001b[0m\u001b[32mPage 5 (281) loaded.\u001b[0m\u001b[32mPage 6 (279) loaded.\u001b[0m\u001b[32mPage 7 (281) loaded.\u001b[0m\u001b[32mPage 8 (274) loaded.\u001b[0m\u001b[32mPage 9 (253) loaded.\u001b[0m\u001b[32mPage 10 (224) loaded.\u001b[0m\u001b[32mPage 11 (152) loaded.\u001b[0m\u001b[32mPage 12 (178) loaded.\u001b[0m\u001b[32mPage 13 (218) loaded.\u001b[0m\u001b[32mPage 14 (173) loaded.\u001b[0m\u001b[32mPage 15 (151) loaded.\u001b[0m\u001b[32mPage 16 (146) loaded.\u001b[0m\u001b[32mPage 17 (103) loaded.\u001b[0m"
     ]
    },
    {
     "name": "stderr",
     "output_type": "stream",
     "text": [
      "                                                                                                 \r"
     ]
    },
    {
     "name": "stdout",
     "output_type": "stream",
     "text": [
      "\u001b[31mDownloaded 1694 games and skipped 1694\u001b[0m\n",
      "\u001b[32mDownloading early-titled-tuesday-blitz-august-22-2023-4238994 games\u001b[0m\n",
      "\u001b[32mPage 2 (243) loaded.\u001b[0m\u001b[32mPage 3 (268) loaded.\u001b[0m\u001b[32mPage 4 (277) loaded.\u001b[0m\u001b[32mPage 5 (286) loaded.\u001b[0m\u001b[32mPage 6 (287) loaded.\u001b[0m\u001b[32mPage 7 (285) loaded.\u001b[0m\u001b[32mPage 8 (281) loaded.\u001b[0m\u001b[32mPage 9 (278) loaded.\u001b[0m\u001b[32mPage 10 (285) loaded.\u001b[0m\u001b[32mPage 11 (282) loaded.\u001b[0m\u001b[32mPage 12 (284) loaded.\u001b[0m\u001b[32mPage 13 (274) loaded.\u001b[0m\u001b[32mPage 14 (232) loaded.\u001b[0m\u001b[32mPage 15 (187) loaded.\u001b[0m\u001b[32mPage 16 (109) loaded.\u001b[0m\u001b[32mPage 17 (234) loaded.\u001b[0m\u001b[32mPage 18 (222) loaded.\u001b[0m\u001b[32mPage 19 (177) loaded.\u001b[0m\u001b[32mPage 20 (181) loaded.\u001b[0m\u001b[32mPage 21 (147) loaded.\u001b[0m\u001b[32mPage 22 (145) loaded.\u001b[0m\u001b[32mPage 23 (104) loaded.\u001b[0m"
     ]
    },
    {
     "name": "stderr",
     "output_type": "stream",
     "text": [
      "                                                                                                    \r"
     ]
    },
    {
     "name": "stdout",
     "output_type": "stream",
     "text": [
      "\u001b[31mDownloaded 2416 games and skipped 2416\u001b[0m\n",
      "\u001b[32mDownloading early-titled-tuesday-blitz-july-18-2023-4171497 games\u001b[0m\n",
      "\u001b[32mPage 2 (242) loaded.\u001b[0m\u001b[32mPage 3 (263) loaded.\u001b[0m\u001b[32mPage 4 (278) loaded.\u001b[0m\u001b[32mPage 5 (277) loaded.\u001b[0m\u001b[32mPage 6 (289) loaded.\u001b[0m\u001b[32mPage 7 (282) loaded.\u001b[0m\u001b[32mPage 8 (285) loaded.\u001b[0m\u001b[32mPage 9 (288) loaded.\u001b[0m\u001b[32mPage 10 (287) loaded.\u001b[0m\u001b[32mPage 11 (272) loaded.\u001b[0m\u001b[32mPage 12 (258) loaded.\u001b[0m\u001b[32mPage 13 (227) loaded.\u001b[0m\u001b[32mPage 14 (137) loaded.\u001b[0m\u001b[32mPage 15 (224) loaded.\u001b[0m\u001b[32mPage 16 (217) loaded.\u001b[0m\u001b[32mPage 17 (188) loaded.\u001b[0m\u001b[32mPage 18 (151) loaded.\u001b[0m\u001b[32mPage 19 (129) loaded.\u001b[0m\u001b[32mPage 20 (80) loaded.\u001b[0m"
     ]
    },
    {
     "name": "stderr",
     "output_type": "stream",
     "text": [
      "                                                                                                  \r"
     ]
    },
    {
     "name": "stdout",
     "output_type": "stream",
     "text": [
      "\u001b[31mDownloaded 2094 games and skipped 2094\u001b[0m\n",
      "\u001b[32mDownloading late-titled-tuesday-blitz-august-29-2023-4252459 games\u001b[0m\n",
      "\u001b[32mPage 2 (250) loaded.\u001b[0m\u001b[32mPage 3 (263) loaded.\u001b[0m\u001b[32mPage 4 (280) loaded.\u001b[0m\u001b[32mPage 5 (290) loaded.\u001b[0m\u001b[32mPage 6 (285) loaded.\u001b[0m\u001b[32mPage 7 (286) loaded.\u001b[0m\u001b[32mPage 8 (286) loaded.\u001b[0m\u001b[32mPage 9 (275) loaded.\u001b[0m\u001b[32mPage 10 (242) loaded.\u001b[0m\u001b[32mPage 11 (220) loaded.\u001b[0m\u001b[32mPage 12 (138) loaded.\u001b[0m\u001b[32mPage 13 (196) loaded.\u001b[0m\u001b[32mPage 14 (224) loaded.\u001b[0m\u001b[32mPage 15 (196) loaded.\u001b[0m\u001b[32mPage 16 (176) loaded.\u001b[0m\u001b[32mPage 17 (158) loaded.\u001b[0m\u001b[32mPage 18 (115) loaded.\u001b[0m\u001b[32mPage 19 (110) loaded.\u001b[0m\u001b[32mPage 20 (56) loaded.\u001b[0m"
     ]
    },
    {
     "name": "stderr",
     "output_type": "stream",
     "text": [
      "                                                                                                   \r"
     ]
    },
    {
     "name": "stdout",
     "output_type": "stream",
     "text": [
      "\u001b[31mDownloaded 1909 games and skipped 1909\u001b[0m\n",
      "\u001b[32mDownloading early-titled-tuesday-blitz-august-15-2023-4225473 games\u001b[0m\n",
      "\u001b[32mPage 2 (245) loaded.\u001b[0m\u001b[32mPage 3 (270) loaded.\u001b[0m\u001b[32mPage 4 (278) loaded.\u001b[0m\u001b[32mPage 5 (287) loaded.\u001b[0m\u001b[32mPage 6 (291) loaded.\u001b[0m\u001b[32mPage 7 (292) loaded.\u001b[0m\u001b[32mPage 8 (280) loaded.\u001b[0m\u001b[32mPage 9 (290) loaded.\u001b[0m\u001b[32mPage 10 (272) loaded.\u001b[0m\u001b[32mPage 11 (283) loaded.\u001b[0m\u001b[32mPage 12 (270) loaded.\u001b[0m\u001b[32mPage 13 (266) loaded.\u001b[0m\u001b[32mPage 14 (212) loaded.\u001b[0m\u001b[32mPage 15 (133) loaded.\u001b[0m\u001b[32mPage 16 (198) loaded.\u001b[0m\u001b[32mPage 17 (215) loaded.\u001b[0m\u001b[32mPage 18 (173) loaded.\u001b[0m\u001b[32mPage 19 (141) loaded.\u001b[0m\u001b[32mPage 20 (155) loaded.\u001b[0m\u001b[32mPage 21 (111) loaded.\u001b[0m\u001b[32mPage 22 (76) loaded.\u001b[0m"
     ]
    },
    {
     "name": "stderr",
     "output_type": "stream",
     "text": [
      "                                                                                                    \r"
     ]
    },
    {
     "name": "stdout",
     "output_type": "stream",
     "text": [
      "\u001b[31mDownloaded 2232 games and skipped 2232\u001b[0m\n",
      "\u001b[32mDownloading early-titled-tuesday-blitz-june-27-2023-4111410 games\u001b[0m\n",
      "\u001b[32mPage 2 (245) loaded.\u001b[0m\u001b[32mPage 3 (264) loaded.\u001b[0m\u001b[32mPage 4 (275) loaded.\u001b[0m\u001b[32mPage 5 (276) loaded.\u001b[0m\u001b[32mPage 6 (287) loaded.\u001b[0m\u001b[32mPage 7 (283) loaded.\u001b[0m\u001b[32mPage 8 (284) loaded.\u001b[0m\u001b[32mPage 9 (280) loaded.\u001b[0m\u001b[32mPage 10 (263) loaded.\u001b[0m\u001b[32mPage 11 (251) loaded.\u001b[0m\u001b[32mPage 12 (214) loaded.\u001b[0m\u001b[32mPage 13 (174) loaded.\u001b[0m\u001b[32mPage 14 (131) loaded.\u001b[0m\u001b[32mPage 15 (219) loaded.\u001b[0m\u001b[32mPage 16 (207) loaded.\u001b[0m\u001b[32mPage 17 (212) loaded.\u001b[0m\u001b[32mPage 18 (181) loaded.\u001b[0m\u001b[32mPage 19 (146) loaded.\u001b[0m\u001b[32mPage 20 (152) loaded.\u001b[0m\u001b[32mPage 21 (105) loaded.\u001b[0m\u001b[32mPage 22 (96) loaded.\u001b[0m"
     ]
    },
    {
     "name": "stderr",
     "output_type": "stream",
     "text": [
      "                                                                                                  \r"
     ]
    },
    {
     "name": "stdout",
     "output_type": "stream",
     "text": [
      "\u001b[31mDownloaded 2144 games and skipped 2144\u001b[0m\n",
      "\u001b[32mDownloading late-titled-tuesday-blitz-june-20-2023-4088064 games\u001b[0m\n",
      "\u001b[32mPage 2 (242) loaded.\u001b[0m\u001b[32mPage 3 (267) loaded.\u001b[0m\u001b[32mPage 4 (273) loaded.\u001b[0m\u001b[32mPage 5 (280) loaded.\u001b[0m\u001b[32mPage 6 (277) loaded.\u001b[0m\u001b[32mPage 7 (277) loaded.\u001b[0m\u001b[32mPage 8 (268) loaded.\u001b[0m\u001b[32mPage 9 (262) loaded.\u001b[0m\u001b[32mPage 10 (232) loaded.\u001b[0m\u001b[32mPage 11 (101) loaded.\u001b[0m\u001b[32mPage 12 (232) loaded.\u001b[0m\u001b[32mPage 13 (198) loaded.\u001b[0m\u001b[32mPage 14 (176) loaded.\u001b[0m\u001b[32mPage 15 (148) loaded.\u001b[0m\u001b[32mPage 16 (139) loaded.\u001b[0m\u001b[32mPage 17 (122) loaded.\u001b[0m\u001b[32mPage 18 (71) loaded.\u001b[0m"
     ]
    },
    {
     "name": "stderr",
     "output_type": "stream",
     "text": [
      "                                                                                                 \r"
     ]
    },
    {
     "name": "stdout",
     "output_type": "stream",
     "text": [
      "\u001b[31mDownloaded 1714 games and skipped 1714\u001b[0m\n",
      "\u001b[32mDownloading early-titled-tuesday-blitz-september-12-2023-4265730 games\u001b[0m\n",
      "\u001b[32mPage 2 (248) loaded.\u001b[0m\u001b[32mPage 3 (272) loaded.\u001b[0m\u001b[32mPage 4 (272) loaded.\u001b[0m\u001b[32mPage 5 (292) loaded.\u001b[0m\u001b[32mPage 6 (293) loaded.\u001b[0m\u001b[32mPage 7 (284) loaded.\u001b[0m\u001b[32mPage 8 (286) loaded.\u001b[0m\u001b[32mPage 9 (284) loaded.\u001b[0m\u001b[32mPage 10 (284) loaded.\u001b[0m\u001b[32mPage 11 (260) loaded.\u001b[0m\u001b[32mPage 12 (280) loaded.\u001b[0m\u001b[32mPage 13 (283) loaded.\u001b[0m\u001b[32mPage 14 (260) loaded.\u001b[0m\u001b[32mPage 15 (243) loaded.\u001b[0m\u001b[32mPage 16 (194) loaded.\u001b[0m\u001b[32mPage 17 (139) loaded.\u001b[0m\u001b[32mPage 18 (234) loaded.\u001b[0m\u001b[32mPage 19 (225) loaded.\u001b[0m\u001b[32mPage 20 (171) loaded.\u001b[0m\u001b[32mPage 21 (177) loaded.\u001b[0m\u001b[32mPage 22 (146) loaded.\u001b[0m\u001b[32mPage 23 (114) loaded.\u001b[0m\u001b[32mPage 24 (116) loaded.\u001b[0m\u001b[32mPage 25 (84) loaded.\u001b[0m"
     ]
    },
    {
     "name": "stderr",
     "output_type": "stream",
     "text": [
      "                                                                                                       \r"
     ]
    },
    {
     "name": "stdout",
     "output_type": "stream",
     "text": [
      "\u001b[31mDownloaded 2574 games and skipped 2574\u001b[0m\n",
      "\u001b[32mDownloading early-titled-tuesday-blitz-july-25-2023-4185047 games\u001b[0m\n",
      "\u001b[32mPage 2 (243) loaded.\u001b[0m\u001b[32mPage 3 (267) loaded.\u001b[0m\u001b[32mPage 4 (278) loaded.\u001b[0m\u001b[32mPage 5 (292) loaded.\u001b[0m\u001b[32mPage 6 (288) loaded.\u001b[0m\u001b[32mPage 7 (287) loaded.\u001b[0m\u001b[32mPage 8 (283) loaded.\u001b[0m\u001b[32mPage 9 (281) loaded.\u001b[0m\u001b[32mPage 10 (283) loaded.\u001b[0m\u001b[32mPage 11 (269) loaded.\u001b[0m\u001b[32mPage 12 (272) loaded.\u001b[0m\u001b[32mPage 13 (261) loaded.\u001b[0m\u001b[32mPage 14 (268) loaded.\u001b[0m\u001b[32mPage 15 (235) loaded.\u001b[0m\u001b[32mPage 16 (108) loaded.\u001b[0m\u001b[32mPage 17 (233) loaded.\u001b[0m\u001b[32mPage 18 (208) loaded.\u001b[0m\u001b[32mPage 19 (191) loaded.\u001b[0m\u001b[32mPage 20 (165) loaded.\u001b[0m\u001b[32mPage 21 (167) loaded.\u001b[0m\u001b[32mPage 22 (98) loaded.\u001b[0m"
     ]
    },
    {
     "name": "stderr",
     "output_type": "stream",
     "text": [
      "                                                                                                  \r"
     ]
    },
    {
     "name": "stdout",
     "output_type": "stream",
     "text": [
      "\u001b[31mDownloaded 2388 games and skipped 2388\u001b[0m\n",
      "\u001b[32mDownloading late-titled-tuesday-blitz-september-12-2023-4265731 games\u001b[0m\n",
      "\u001b[32mPage 2 (246) loaded.\u001b[0m\u001b[32mPage 3 (268) loaded.\u001b[0m\u001b[32mPage 4 (283) loaded.\u001b[0m\u001b[32mPage 5 (284) loaded.\u001b[0m\u001b[32mPage 6 (290) loaded.\u001b[0m\u001b[32mPage 7 (280) loaded.\u001b[0m\u001b[32mPage 8 (266) loaded.\u001b[0m\u001b[32mPage 9 (261) loaded.\u001b[0m\u001b[32mPage 10 (264) loaded.\u001b[0m\u001b[32mPage 11 (194) loaded.\u001b[0m\u001b[32mPage 12 (134) loaded.\u001b[0m\u001b[32mPage 13 (187) loaded.\u001b[0m\u001b[32mPage 14 (216) loaded.\u001b[0m\u001b[32mPage 15 (190) loaded.\u001b[0m\u001b[32mPage 16 (169) loaded.\u001b[0m\u001b[32mPage 17 (133) loaded.\u001b[0m\u001b[32mPage 18 (100) loaded.\u001b[0m\u001b[32mPage 19 (83) loaded.\u001b[0m"
     ]
    },
    {
     "name": "stderr",
     "output_type": "stream",
     "text": [
      "                                                                                                      \r"
     ]
    },
    {
     "name": "stdout",
     "output_type": "stream",
     "text": [
      "\u001b[31mDownloaded 1844 games and skipped 1844\u001b[0m\n",
      "\u001b[32mDownloading late-titled-tuesday-blitz-july-11-2023-4158386 games\u001b[0m\n",
      "\u001b[32mPage 2 (241) loaded.\u001b[0m\u001b[32mPage 3 (266) loaded.\u001b[0m\u001b[32mPage 4 (281) loaded.\u001b[0m\u001b[32mPage 5 (282) loaded.\u001b[0m\u001b[32mPage 6 (286) loaded.\u001b[0m\u001b[32mPage 7 (286) loaded.\u001b[0m\u001b[32mPage 8 (281) loaded.\u001b[0m\u001b[32mPage 9 (261) loaded.\u001b[0m\u001b[32mPage 10 (240) loaded.\u001b[0m\u001b[32mPage 11 (176) loaded.\u001b[0m\u001b[32mPage 12 (127) loaded.\u001b[0m\u001b[32mPage 13 (214) loaded.\u001b[0m\u001b[32mPage 14 (199) loaded.\u001b[0m\u001b[32mPage 15 (157) loaded.\u001b[0m\u001b[32mPage 16 (158) loaded.\u001b[0m\u001b[32mPage 17 (114) loaded.\u001b[0m\u001b[32mPage 18 (84) loaded.\u001b[0m"
     ]
    },
    {
     "name": "stderr",
     "output_type": "stream",
     "text": [
      "                                                                                                 \r"
     ]
    },
    {
     "name": "stdout",
     "output_type": "stream",
     "text": [
      "\u001b[31mDownloaded 1740 games and skipped 1740\u001b[0m\n",
      "\u001b[32mDownloading late-titled-tuesday-blitz-august-01-2023-4198580 games\u001b[0m\n",
      "\u001b[32mPage 2 (244) loaded.\u001b[0m\u001b[32mPage 3 (264) loaded.\u001b[0m\u001b[32mPage 4 (281) loaded.\u001b[0m\u001b[32mPage 5 (287) loaded.\u001b[0m\u001b[32mPage 6 (277) loaded.\u001b[0m\u001b[32mPage 7 (278) loaded.\u001b[0m\u001b[32mPage 8 (285) loaded.\u001b[0m\u001b[32mPage 9 (261) loaded.\u001b[0m\u001b[32mPage 10 (248) loaded.\u001b[0m\u001b[32mPage 11 (163) loaded.\u001b[0m\u001b[32mPage 12 (190) loaded.\u001b[0m\u001b[32mPage 13 (183) loaded.\u001b[0m\u001b[32mPage 14 (182) loaded.\u001b[0m\u001b[32mPage 15 (136) loaded.\u001b[0m\u001b[32mPage 16 (120) loaded.\u001b[0m\u001b[32mPage 17 (121) loaded.\u001b[0m"
     ]
    },
    {
     "name": "stderr",
     "output_type": "stream",
     "text": [
      "                                                                                                   \r"
     ]
    },
    {
     "name": "stdout",
     "output_type": "stream",
     "text": [
      "\u001b[31mDownloaded 1698 games and skipped 1698\u001b[0m\n",
      "\u001b[32mDownloading early-titled-tuesday-blitz-july-11-2023-4158385 games\u001b[0m\n",
      "\u001b[32mPage 2 (247) loaded.\u001b[0m\u001b[32mPage 3 (263) loaded.\u001b[0m\u001b[32mPage 4 (275) loaded.\u001b[0m\u001b[32mPage 5 (281) loaded.\u001b[0m\u001b[32mPage 6 (291) loaded.\u001b[0m\u001b[32mPage 7 (283) loaded.\u001b[0m\u001b[32mPage 8 (288) loaded.\u001b[0m\u001b[32mPage 9 (284) loaded.\u001b[0m\u001b[32mPage 10 (287) loaded.\u001b[0m\u001b[32mPage 11 (281) loaded.\u001b[0m\u001b[32mPage 12 (262) loaded.\u001b[0m\u001b[32mPage 13 (216) loaded.\u001b[0m\u001b[32mPage 14 (121) loaded.\u001b[0m\u001b[32mPage 15 (214) loaded.\u001b[0m\u001b[32mPage 16 (227) loaded.\u001b[0m\u001b[32mPage 17 (187) loaded.\u001b[0m\u001b[32mPage 18 (130) loaded.\u001b[0m\u001b[32mPage 19 (163) loaded.\u001b[0m\u001b[32mPage 20 (114) loaded.\u001b[0m\u001b[32mPage 21 (68) loaded.\u001b[0m"
     ]
    },
    {
     "name": "stderr",
     "output_type": "stream",
     "text": [
      "                                                                                                  \r"
     ]
    },
    {
     "name": "stdout",
     "output_type": "stream",
     "text": [
      "\u001b[31mDownloaded 2129 games and skipped 2129\u001b[0m\n",
      "\u001b[32mDownloading late-titled-tuesday-blitz-september-05-2023-4265729 games\u001b[0m\n",
      "\u001b[32mPage 2 (249) loaded.\u001b[0m\u001b[32mPage 3 (265) loaded.\u001b[0m\u001b[32mPage 4 (270) loaded.\u001b[0m\u001b[32mPage 5 (282) loaded.\u001b[0m\u001b[32mPage 6 (278) loaded.\u001b[0m\u001b[32mPage 7 (283) loaded.\u001b[0m\u001b[32mPage 8 (286) loaded.\u001b[0m\u001b[32mPage 9 (279) loaded.\u001b[0m\u001b[32mPage 10 (249) loaded.\u001b[0m\u001b[32mPage 11 (161) loaded.\u001b[0m\u001b[32mPage 12 (175) loaded.\u001b[0m\u001b[32mPage 13 (207) loaded.\u001b[0m\u001b[32mPage 14 (188) loaded.\u001b[0m\u001b[32mPage 15 (180) loaded.\u001b[0m\u001b[32mPage 16 (126) loaded.\u001b[0m\u001b[32mPage 17 (135) loaded.\u001b[0m\u001b[32mPage 18 (112) loaded.\u001b[0m"
     ]
    },
    {
     "name": "stderr",
     "output_type": "stream",
     "text": [
      "                                                                                                      \r"
     ]
    },
    {
     "name": "stdout",
     "output_type": "stream",
     "text": [
      "\u001b[31mDownloaded 1797 games and skipped 1797\u001b[0m\n",
      "\u001b[32mDownloading early-titled-tuesday-blitz-august-29-2023-4252458 games\u001b[0m\n",
      "\u001b[32mPage 2 (249) loaded.\u001b[0m\u001b[32mPage 3 (274) loaded.\u001b[0m\u001b[32mPage 4 (280) loaded.\u001b[0m\u001b[32mPage 5 (291) loaded.\u001b[0m\u001b[32mPage 6 (290) loaded.\u001b[0m\u001b[32mPage 7 (291) loaded.\u001b[0m\u001b[32mPage 8 (288) loaded.\u001b[0m\u001b[32mPage 9 (286) loaded.\u001b[0m\u001b[32mPage 10 (292) loaded.\u001b[0m\u001b[32mPage 11 (277) loaded.\u001b[0m\u001b[32mPage 12 (279) loaded.\u001b[0m\u001b[32mPage 13 (288) loaded.\u001b[0m\u001b[32mPage 14 (262) loaded.\u001b[0m\u001b[32mPage 15 (261) loaded.\u001b[0m\u001b[32mPage 16 (210) loaded.\u001b[0m\u001b[32mPage 17 (109) loaded.\u001b[0m\u001b[32mPage 18 (235) loaded.\u001b[0m\u001b[32mPage 19 (211) loaded.\u001b[0m\u001b[32mPage 20 (181) loaded.\u001b[0m\u001b[32mPage 21 (171) loaded.\u001b[0m\u001b[32mPage 22 (152) loaded.\u001b[0m\u001b[32mPage 23 (111) loaded.\u001b[0m\u001b[32mPage 24 (114) loaded.\u001b[0m\u001b[32mPage 25 (59) loaded.\u001b[0m"
     ]
    },
    {
     "name": "stderr",
     "output_type": "stream",
     "text": [
      "                                                                                                    \r"
     ]
    },
    {
     "name": "stdout",
     "output_type": "stream",
     "text": [
      "\u001b[31mDownloaded 2554 games and skipped 2554\u001b[0m\n",
      "\u001b[32mDownloading late-titled-tuesday-blitz-july-18-2023-4171498 games\u001b[0m\n",
      "\u001b[32mPage 2 (245) loaded.\u001b[0m\u001b[32mPage 3 (267) loaded.\u001b[0m\u001b[32mPage 4 (276) loaded.\u001b[0m\u001b[32mPage 5 (285) loaded.\u001b[0m\u001b[32mPage 6 (275) loaded.\u001b[0m\u001b[32mPage 7 (287) loaded.\u001b[0m\u001b[32mPage 8 (264) loaded.\u001b[0m\u001b[32mPage 9 (269) loaded.\u001b[0m\u001b[32mPage 10 (238) loaded.\u001b[0m\u001b[32mPage 11 (182) loaded.\u001b[0m\u001b[32mPage 12 (132) loaded.\u001b[0m\u001b[32mPage 13 (221) loaded.\u001b[0m\u001b[32mPage 14 (196) loaded.\u001b[0m\u001b[32mPage 15 (170) loaded.\u001b[0m\u001b[32mPage 16 (162) loaded.\u001b[0m\u001b[32mPage 17 (109) loaded.\u001b[0m\u001b[32mPage 18 (81) loaded.\u001b[0m"
     ]
    },
    {
     "name": "stderr",
     "output_type": "stream",
     "text": [
      "                                                                                                 \r"
     ]
    },
    {
     "name": "stdout",
     "output_type": "stream",
     "text": [
      "\u001b[31mDownloaded 1751 games and skipped 1751\u001b[0m\n",
      "\u001b[32mDownloading titled-tuesdays games\u001b[0m\n",
      "\u001b[31mNo games found for titled-tuesdays\u001b[0m\n",
      "\u001b[32mDownloading late-titled-tuesday-blitz-july-04-2023-4144882 games\u001b[0m\n",
      "\u001b[32mPage 2 (253) loaded.\u001b[0m\u001b[32mPage 3 (271) loaded.\u001b[0m\u001b[32mPage 4 (277) loaded.\u001b[0m\u001b[32mPage 5 (284) loaded.\u001b[0m\u001b[32mPage 6 (284) loaded.\u001b[0m\u001b[32mPage 7 (283) loaded.\u001b[0m\u001b[32mPage 8 (274) loaded.\u001b[0m\u001b[32mPage 9 (277) loaded.\u001b[0m\u001b[32mPage 10 (241) loaded.\u001b[0m\u001b[32mPage 11 (180) loaded.\u001b[0m\u001b[32mPage 12 (123) loaded.\u001b[0m\u001b[32mPage 13 (218) loaded.\u001b[0m\u001b[32mPage 14 (178) loaded.\u001b[0m\u001b[32mPage 15 (161) loaded.\u001b[0m\u001b[32mPage 16 (145) loaded.\u001b[0m\u001b[32mPage 17 (110) loaded.\u001b[0m\u001b[32mPage 18 (73) loaded.\u001b[0m"
     ]
    },
    {
     "name": "stderr",
     "output_type": "stream",
     "text": [
      "                                                                                                 \r"
     ]
    },
    {
     "name": "stdout",
     "output_type": "stream",
     "text": [
      "\u001b[31mDownloaded 1716 games and skipped 1716\u001b[0m\n",
      "\u001b[32mDownloading early-titled-tuesday-blitz-july-04-2023-4144881 games\u001b[0m\n",
      "\u001b[32mPage 2 (249) loaded.\u001b[0m\u001b[32mPage 3 (275) loaded.\u001b[0m\u001b[32mPage 4 (273) loaded.\u001b[0m\u001b[32mPage 5 (281) loaded.\u001b[0m\u001b[32mPage 6 (292) loaded.\u001b[0m\u001b[32mPage 7 (294) loaded.\u001b[0m\u001b[32mPage 8 (285) loaded.\u001b[0m\u001b[32mPage 9 (283) loaded.\u001b[0m\u001b[32mPage 10 (283) loaded.\u001b[0m\u001b[32mPage 11 (278) loaded.\u001b[0m\u001b[32mPage 12 (278) loaded.\u001b[0m\u001b[32mPage 13 (252) loaded.\u001b[0m\u001b[32mPage 14 (230) loaded.\u001b[0m\u001b[32mPage 15 (142) loaded.\u001b[0m\u001b[32mPage 16 (206) loaded.\u001b[0m\u001b[32mPage 17 (219) loaded.\u001b[0m\u001b[32mPage 18 (171) loaded.\u001b[0m\u001b[32mPage 19 (171) loaded.\u001b[0m\u001b[32mPage 20 (162) loaded.\u001b[0m\u001b[32mPage 21 (104) loaded.\u001b[0m"
     ]
    },
    {
     "name": "stderr",
     "output_type": "stream",
     "text": [
      "                                                                                                  \r"
     ]
    },
    {
     "name": "stdout",
     "output_type": "stream",
     "text": [
      "\u001b[31mDownloaded 2271 games and skipped 2271\u001b[0m\n",
      "\u001b[32mDownloading late-titled-tuesday-blitz-august-22-2023-4238995 games\u001b[0m\n",
      "\u001b[32mPage 2 (241) loaded.\u001b[0m\u001b[32mPage 3 (266) loaded.\u001b[0m\u001b[32mPage 4 (281) loaded.\u001b[0m\u001b[32mPage 5 (288) loaded.\u001b[0m\u001b[32mPage 6 (281) loaded.\u001b[0m\u001b[32mPage 7 (275) loaded.\u001b[0m\u001b[32mPage 8 (273) loaded.\u001b[0m\u001b[32mPage 9 (267) loaded.\u001b[0m\u001b[32mPage 10 (275) loaded.\u001b[0m\u001b[32mPage 11 (243) loaded.\u001b[0m\u001b[32mPage 12 (182) loaded.\u001b[0m\u001b[32mPage 13 (139) loaded.\u001b[0m\u001b[32mPage 14 (210) loaded.\u001b[0m\u001b[32mPage 15 (191) loaded.\u001b[0m\u001b[32mPage 16 (181) loaded.\u001b[0m\u001b[32mPage 17 (152) loaded.\u001b[0m\u001b[32mPage 18 (153) loaded.\u001b[0m\u001b[32mPage 19 (107) loaded.\u001b[0m\u001b[32mPage 20 (83) loaded.\u001b[0m"
     ]
    },
    {
     "name": "stderr",
     "output_type": "stream",
     "text": [
      "                                                                                                   \r"
     ]
    },
    {
     "name": "stdout",
     "output_type": "stream",
     "text": [
      "\u001b[31mDownloaded 1940 games and skipped 1940\u001b[0m\n",
      "\u001b[32mDownloading late-titled-tuesday-blitz-july-25-2023-4185048 games\u001b[0m\n",
      "\u001b[32mPage 2 (239) loaded.\u001b[0m\u001b[32mPage 3 (266) loaded.\u001b[0m\u001b[32mPage 4 (280) loaded.\u001b[0m\u001b[32mPage 5 (282) loaded.\u001b[0m\u001b[32mPage 6 (279) loaded.\u001b[0m\u001b[32mPage 7 (280) loaded.\u001b[0m\u001b[32mPage 8 (269) loaded.\u001b[0m\u001b[32mPage 9 (269) loaded.\u001b[0m\u001b[32mPage 10 (250) loaded.\u001b[0m\u001b[32mPage 11 (190) loaded.\u001b[0m\u001b[32mPage 12 (124) loaded.\u001b[0m\u001b[32mPage 13 (191) loaded.\u001b[0m\u001b[32mPage 14 (220) loaded.\u001b[0m\u001b[32mPage 15 (180) loaded.\u001b[0m\u001b[32mPage 16 (182) loaded.\u001b[0m\u001b[32mPage 17 (139) loaded.\u001b[0m\u001b[32mPage 18 (106) loaded.\u001b[0m\u001b[32mPage 19 (80) loaded.\u001b[0m"
     ]
    },
    {
     "name": "stderr",
     "output_type": "stream",
     "text": [
      "                                                                                                 \r"
     ]
    },
    {
     "name": "stdout",
     "output_type": "stream",
     "text": [
      "\u001b[31mDownloaded 1828 games and skipped 1828\u001b[0m\n",
      "\u001b[32mDownloading late-titled-tuesday-blitz-april-25-2023-3989234 games\u001b[0m\n",
      "\u001b[32mPage 2 (236) loaded.\u001b[0m\u001b[32mPage 3 (269) loaded.\u001b[0m\u001b[32mPage 4 (276) loaded.\u001b[0m\u001b[32mPage 5 (280) loaded.\u001b[0m\u001b[32mPage 6 (287) loaded.\u001b[0m\u001b[32mPage 7 (284) loaded.\u001b[0m\u001b[32mPage 8 (281) loaded.\u001b[0m\u001b[32mPage 9 (279) loaded.\u001b[0m\u001b[32mPage 10 (265) loaded.\u001b[0m\u001b[32mPage 11 (200) loaded.\u001b[0m\u001b[32mPage 12 (88) loaded.\u001b[0m\u001b[32mPage 13 (216) loaded.\u001b[0m\u001b[32mPage 14 (181) loaded.\u001b[0m\u001b[32mPage 15 (159) loaded.\u001b[0m\u001b[32mPage 16 (134) loaded.\u001b[0m\u001b[32mPage 17 (79) loaded.\u001b[0m"
     ]
    },
    {
     "name": "stderr",
     "output_type": "stream",
     "text": [
      "                                                                                                  \r"
     ]
    },
    {
     "name": "stdout",
     "output_type": "stream",
     "text": [
      "\u001b[31mDownloaded 1688 games and skipped 1688\u001b[0m\n",
      "\u001b[32mDownloading early-titled-tuesday-blitz-may-23-2023-4033933 games\u001b[0m\n",
      "\u001b[32mPage 2 (245) loaded.\u001b[0m\u001b[32mPage 3 (268) loaded.\u001b[0m\u001b[32mPage 4 (280) loaded.\u001b[0m\u001b[32mPage 5 (280) loaded.\u001b[0m\u001b[32mPage 6 (285) loaded.\u001b[0m\u001b[32mPage 7 (289) loaded.\u001b[0m\u001b[32mPage 8 (280) loaded.\u001b[0m\u001b[32mPage 9 (288) loaded.\u001b[0m\u001b[32mPage 10 (284) loaded.\u001b[0m\u001b[32mPage 11 (282) loaded.\u001b[0m\u001b[32mPage 12 (263) loaded.\u001b[0m\u001b[32mPage 13 (217) loaded.\u001b[0m\u001b[32mPage 14 (113) loaded.\u001b[0m\u001b[32mPage 15 (229) loaded.\u001b[0m\u001b[32mPage 16 (189) loaded.\u001b[0m\u001b[32mPage 17 (184) loaded.\u001b[0m\u001b[32mPage 18 (142) loaded.\u001b[0m\u001b[32mPage 19 (124) loaded.\u001b[0m\u001b[32mPage 20 (110) loaded.\u001b[0m\u001b[32mPage 21 (59) loaded.\u001b[0m"
     ]
    },
    {
     "name": "stderr",
     "output_type": "stream",
     "text": [
      "                                                                                                 \r"
     ]
    },
    {
     "name": "stdout",
     "output_type": "stream",
     "text": [
      "\u001b[31mDownloaded 2084 games and skipped 2084\u001b[0m\n",
      "\u001b[32mDownloading early-titled-tuesday-blitz-june-06-2023-4061130 games\u001b[0m\n",
      "\u001b[32mPage 2 (252) loaded.\u001b[0m\u001b[32mPage 3 (269) loaded.\u001b[0m\u001b[32mPage 4 (283) loaded.\u001b[0m\u001b[32mPage 5 (286) loaded.\u001b[0m\u001b[32mPage 6 (289) loaded.\u001b[0m\u001b[32mPage 7 (283) loaded.\u001b[0m\u001b[32mPage 8 (285) loaded.\u001b[0m\u001b[32mPage 9 (279) loaded.\u001b[0m\u001b[32mPage 10 (282) loaded.\u001b[0m\u001b[32mPage 11 (280) loaded.\u001b[0m\u001b[32mPage 12 (241) loaded.\u001b[0m\u001b[32mPage 13 (152) loaded.\u001b[0m\u001b[32mPage 14 (182) loaded.\u001b[0m\u001b[32mPage 15 (208) loaded.\u001b[0m\u001b[32mPage 16 (187) loaded.\u001b[0m\u001b[32mPage 17 (138) loaded.\u001b[0m\u001b[32mPage 18 (140) loaded.\u001b[0m\u001b[32mPage 19 (105) loaded.\u001b[0m"
     ]
    },
    {
     "name": "stderr",
     "output_type": "stream",
     "text": [
      "                                                                                                  \r"
     ]
    },
    {
     "name": "stdout",
     "output_type": "stream",
     "text": [
      "\u001b[31mDownloaded 1961 games and skipped 1961\u001b[0m\n",
      "\u001b[32mDownloading late-titled-tuesday-blitz-april-04-2023-3947952 games\u001b[0m\n",
      "\u001b[32mPage 2 (235) loaded.\u001b[0m\u001b[32mPage 3 (276) loaded.\u001b[0m\u001b[32mPage 4 (267) loaded.\u001b[0m\u001b[32mPage 5 (283) loaded.\u001b[0m\u001b[32mPage 6 (268) loaded.\u001b[0m\u001b[32mPage 7 (274) loaded.\u001b[0m\u001b[32mPage 8 (237) loaded.\u001b[0m\u001b[32mPage 9 (111) loaded.\u001b[0m\u001b[32mPage 10 (213) loaded.\u001b[0m\u001b[32mPage 11 (223) loaded.\u001b[0m\u001b[32mPage 12 (174) loaded.\u001b[0m\u001b[32mPage 13 (136) loaded.\u001b[0m\u001b[32mPage 14 (143) loaded.\u001b[0m\u001b[32mPage 15 (84) loaded.\u001b[0m"
     ]
    },
    {
     "name": "stderr",
     "output_type": "stream",
     "text": [
      "                                                                                                  \r"
     ]
    },
    {
     "name": "stdout",
     "output_type": "stream",
     "text": [
      "\u001b[31mDownloaded 1423 games and skipped 1423\u001b[0m\n",
      "\u001b[32mDownloading early-titled-tuesday-blitz-april-25-2023-3989233 games\u001b[0m\n",
      "\u001b[32mPage 2 (252) loaded.\u001b[0m\u001b[32mPage 3 (274) loaded.\u001b[0m\u001b[32mPage 4 (279) loaded.\u001b[0m\u001b[32mPage 5 (278) loaded.\u001b[0m\u001b[32mPage 6 (284) loaded.\u001b[0m\u001b[32mPage 7 (280) loaded.\u001b[0m\u001b[32mPage 8 (283) loaded.\u001b[0m\u001b[32mPage 9 (292) loaded.\u001b[0m\u001b[32mPage 10 (279) loaded.\u001b[0m\u001b[32mPage 11 (277) loaded.\u001b[0m\u001b[32mPage 12 (277) loaded.\u001b[0m\u001b[32mPage 13 (244) loaded.\u001b[0m\u001b[32mPage 14 (195) loaded.\u001b[0m\u001b[32mPage 15 (175) loaded.\u001b[0m\u001b[32mPage 16 (218) loaded.\u001b[0m\u001b[32mPage 17 (209) loaded.\u001b[0m\u001b[32mPage 18 (163) loaded.\u001b[0m\u001b[32mPage 19 (142) loaded.\u001b[0m\u001b[32mPage 20 (133) loaded.\u001b[0m\u001b[32mPage 21 (115) loaded.\u001b[0m\u001b[32mPage 22 (67) loaded.\u001b[0m"
     ]
    },
    {
     "name": "stderr",
     "output_type": "stream",
     "text": [
      "                                                                                                   \r"
     ]
    },
    {
     "name": "stdout",
     "output_type": "stream",
     "text": [
      "\u001b[31mDownloaded 2212 games and skipped 2212\u001b[0m\n",
      "\u001b[32mDownloading late-titled-tuesday-blitz-may-30-2023-4047638 games\u001b[0m\n",
      "\u001b[32mPage 2 (243) loaded.\u001b[0m\u001b[32mPage 3 (274) loaded.\u001b[0m\u001b[32mPage 4 (277) loaded.\u001b[0m\u001b[32mPage 5 (283) loaded.\u001b[0m\u001b[32mPage 6 (273) loaded.\u001b[0m\u001b[32mPage 7 (271) loaded.\u001b[0m\u001b[32mPage 8 (268) loaded.\u001b[0m\u001b[32mPage 9 (236) loaded.\u001b[0m\u001b[32mPage 10 (186) loaded.\u001b[0m\u001b[32mPage 11 (179) loaded.\u001b[0m\u001b[32mPage 12 (200) loaded.\u001b[0m\u001b[32mPage 13 (178) loaded.\u001b[0m\u001b[32mPage 14 (148) loaded.\u001b[0m\u001b[32mPage 15 (133) loaded.\u001b[0m\u001b[32mPage 16 (94) loaded.\u001b[0m\u001b[32mPage 17 (56) loaded.\u001b[0m"
     ]
    },
    {
     "name": "stderr",
     "output_type": "stream",
     "text": [
      "                                                                                                \r"
     ]
    },
    {
     "name": "stdout",
     "output_type": "stream",
     "text": [
      "\u001b[31mDownloaded 1573 games and skipped 1573\u001b[0m\n",
      "\u001b[32mDownloading early-titled-tuesday-blitz-april-11-2023-3961658 games\u001b[0m\n",
      "\u001b[32mPage 2 (245) loaded.\u001b[0m\u001b[32mPage 3 (265) loaded.\u001b[0m\u001b[32mPage 4 (280) loaded.\u001b[0m\u001b[32mPage 5 (285) loaded.\u001b[0m\u001b[32mPage 6 (283) loaded.\u001b[0m\u001b[32mPage 7 (281) loaded.\u001b[0m\u001b[32mPage 8 (273) loaded.\u001b[0m\u001b[32mPage 9 (291) loaded.\u001b[0m\u001b[32mPage 10 (280) loaded.\u001b[0m\u001b[32mPage 11 (275) loaded.\u001b[0m\u001b[32mPage 12 (266) loaded.\u001b[0m\u001b[32mPage 13 (262) loaded.\u001b[0m\u001b[32mPage 14 (257) loaded.\u001b[0m\u001b[32mPage 15 (199) loaded.\u001b[0m\u001b[32mPage 16 (122) loaded.\u001b[0m\u001b[32mPage 17 (172) loaded.\u001b[0m\u001b[32mPage 18 (216) loaded.\u001b[0m\u001b[32mPage 19 (172) loaded.\u001b[0m\u001b[32mPage 20 (141) loaded.\u001b[0m\u001b[32mPage 21 (153) loaded.\u001b[0m\u001b[32mPage 22 (94) loaded.\u001b[0m"
     ]
    },
    {
     "name": "stderr",
     "output_type": "stream",
     "text": [
      "                                                                                                   \r"
     ]
    },
    {
     "name": "stdout",
     "output_type": "stream",
     "text": [
      "\u001b[31mDownloaded 2291 games and skipped 2291\u001b[0m\n",
      "\u001b[32mDownloading late-titled-tuesday-blitz-may-23-2023-4033934 games\u001b[0m\n",
      "\u001b[32mPage 2 (236) loaded.\u001b[0m\u001b[32mPage 3 (268) loaded.\u001b[0m\u001b[32mPage 4 (280) loaded.\u001b[0m\u001b[32mPage 5 (292) loaded.\u001b[0m\u001b[32mPage 6 (289) loaded.\u001b[0m\u001b[32mPage 7 (290) loaded.\u001b[0m\u001b[32mPage 8 (286) loaded.\u001b[0m\u001b[32mPage 9 (282) loaded.\u001b[0m\u001b[32mPage 10 (252) loaded.\u001b[0m\u001b[32mPage 11 (203) loaded.\u001b[0m\u001b[32mPage 12 (145) loaded.\u001b[0m\u001b[32mPage 13 (214) loaded.\u001b[0m\u001b[32mPage 14 (174) loaded.\u001b[0m\u001b[32mPage 15 (173) loaded.\u001b[0m\u001b[32mPage 16 (143) loaded.\u001b[0m\u001b[32mPage 17 (133) loaded.\u001b[0m\u001b[32mPage 18 (102) loaded.\u001b[0m"
     ]
    },
    {
     "name": "stderr",
     "output_type": "stream",
     "text": [
      "                                                                                                \r"
     ]
    },
    {
     "name": "stdout",
     "output_type": "stream",
     "text": [
      "\u001b[31mDownloaded 1800 games and skipped 1800\u001b[0m\n",
      "\u001b[32mDownloading late-titled-tuesday-blitz-march-28-2023-3934068 games\u001b[0m\n",
      "\u001b[32mPage 2 (244) loaded.\u001b[0m\u001b[32mPage 3 (259) loaded.\u001b[0m\u001b[32mPage 4 (279) loaded.\u001b[0m\u001b[32mPage 5 (285) loaded.\u001b[0m\u001b[32mPage 6 (273) loaded.\u001b[0m\u001b[32mPage 7 (277) loaded.\u001b[0m\u001b[32mPage 8 (266) loaded.\u001b[0m\u001b[32mPage 9 (253) loaded.\u001b[0m\u001b[32mPage 10 (223) loaded.\u001b[0m\u001b[32mPage 11 (141) loaded.\u001b[0m\u001b[32mPage 12 (211) loaded.\u001b[0m\u001b[32mPage 13 (207) loaded.\u001b[0m\u001b[32mPage 14 (182) loaded.\u001b[0m\u001b[32mPage 15 (145) loaded.\u001b[0m\u001b[32mPage 16 (140) loaded.\u001b[0m\u001b[32mPage 17 (116) loaded.\u001b[0m"
     ]
    },
    {
     "name": "stderr",
     "output_type": "stream",
     "text": [
      "                                                                                                  \r"
     ]
    },
    {
     "name": "stdout",
     "output_type": "stream",
     "text": [
      "\u001b[31mDownloaded 1710 games and skipped 1710\u001b[0m\n",
      "\u001b[32mDownloading late-titled-tuesday-blitz-april-18-2023-3975542 games\u001b[0m\n",
      "\u001b[32mPage 2 (239) loaded.\u001b[0m\u001b[32mPage 3 (263) loaded.\u001b[0m\u001b[32mPage 4 (278) loaded.\u001b[0m\u001b[32mPage 5 (280) loaded.\u001b[0m\u001b[32mPage 6 (284) loaded.\u001b[0m\u001b[32mPage 7 (278) loaded.\u001b[0m\u001b[32mPage 8 (273) loaded.\u001b[0m\u001b[32mPage 9 (251) loaded.\u001b[0m\u001b[32mPage 10 (179) loaded.\u001b[0m\u001b[32mPage 11 (160) loaded.\u001b[0m\u001b[32mPage 12 (224) loaded.\u001b[0m\u001b[32mPage 13 (200) loaded.\u001b[0m\u001b[32mPage 14 (158) loaded.\u001b[0m\u001b[32mPage 15 (118) loaded.\u001b[0m\u001b[32mPage 16 (122) loaded.\u001b[0m\u001b[32mPage 17 (58) loaded.\u001b[0m"
     ]
    },
    {
     "name": "stderr",
     "output_type": "stream",
     "text": [
      "                                                                                                  \r"
     ]
    },
    {
     "name": "stdout",
     "output_type": "stream",
     "text": [
      "\u001b[31mDownloaded 1612 games and skipped 1612\u001b[0m\n",
      "\u001b[32mDownloading early-titled-tuesday-blitz-april-18-2023-3975541 games\u001b[0m\n",
      "\u001b[32mPage 2 (246) loaded.\u001b[0m\u001b[32mPage 3 (271) loaded.\u001b[0m\u001b[32mPage 4 (281) loaded.\u001b[0m\u001b[32mPage 5 (283) loaded.\u001b[0m\u001b[32mPage 6 (290) loaded.\u001b[0m\u001b[32mPage 7 (286) loaded.\u001b[0m\u001b[32mPage 8 (284) loaded.\u001b[0m\u001b[32mPage 9 (280) loaded.\u001b[0m\u001b[32mPage 10 (276) loaded.\u001b[0m\u001b[32mPage 11 (264) loaded.\u001b[0m\u001b[32mPage 12 (244) loaded.\u001b[0m\u001b[32mPage 13 (239) loaded.\u001b[0m\u001b[32mPage 14 (125) loaded.\u001b[0m\u001b[32mPage 15 (205) loaded.\u001b[0m\u001b[32mPage 16 (210) loaded.\u001b[0m\u001b[32mPage 17 (172) loaded.\u001b[0m\u001b[32mPage 18 (154) loaded.\u001b[0m\u001b[32mPage 19 (126) loaded.\u001b[0m\u001b[32mPage 20 (96) loaded.\u001b[0m"
     ]
    },
    {
     "name": "stderr",
     "output_type": "stream",
     "text": [
      "                                                                                                   \r"
     ]
    },
    {
     "name": "stdout",
     "output_type": "stream",
     "text": [
      "\u001b[31mDownloaded 2071 games and skipped 2071\u001b[0m\n",
      "\u001b[32mDownloading early-titled-tuesday-blitz-april-04-2023-3947951 games\u001b[0m\n",
      "\u001b[32mPage 2 (245) loaded.\u001b[0m\u001b[32mPage 3 (273) loaded.\u001b[0m\u001b[32mPage 4 (273) loaded.\u001b[0m\u001b[32mPage 5 (284) loaded.\u001b[0m\u001b[32mPage 6 (285) loaded.\u001b[0m\u001b[32mPage 7 (287) loaded.\u001b[0m\u001b[32mPage 8 (280) loaded.\u001b[0m\u001b[32mPage 9 (274) loaded.\u001b[0m\u001b[32mPage 10 (271) loaded.\u001b[0m\u001b[32mPage 11 (270) loaded.\u001b[0m\u001b[32mPage 12 (238) loaded.\u001b[0m\u001b[32mPage 13 (185) loaded.\u001b[0m\u001b[32mPage 14 (147) loaded.\u001b[0m\u001b[32mPage 15 (220) loaded.\u001b[0m\u001b[32mPage 16 (191) loaded.\u001b[0m\u001b[32mPage 17 (167) loaded.\u001b[0m\u001b[32mPage 18 (151) loaded.\u001b[0m\u001b[32mPage 19 (96) loaded.\u001b[0m\u001b[32mPage 20 (65) loaded.\u001b[0m"
     ]
    },
    {
     "name": "stderr",
     "output_type": "stream",
     "text": [
      "                                                                                                   \r"
     ]
    },
    {
     "name": "stdout",
     "output_type": "stream",
     "text": [
      "\u001b[31mDownloaded 1997 games and skipped 1997\u001b[0m\n",
      "\u001b[32mDownloading late-titled-tuesday-blitz-june-06-2023-4061131 games\u001b[0m\n",
      "\u001b[32mPage 2 (245) loaded.\u001b[0m\u001b[32mPage 3 (266) loaded.\u001b[0m\u001b[32mPage 4 (279) loaded.\u001b[0m\u001b[32mPage 5 (280) loaded.\u001b[0m\u001b[32mPage 6 (284) loaded.\u001b[0m\u001b[32mPage 7 (280) loaded.\u001b[0m\u001b[32mPage 8 (274) loaded.\u001b[0m\u001b[32mPage 9 (249) loaded.\u001b[0m\u001b[32mPage 10 (208) loaded.\u001b[0m\u001b[32mPage 11 (196) loaded.\u001b[0m\u001b[32mPage 12 (204) loaded.\u001b[0m\u001b[32mPage 13 (186) loaded.\u001b[0m\u001b[32mPage 14 (171) loaded.\u001b[0m\u001b[32mPage 15 (104) loaded.\u001b[0m\u001b[32mPage 16 (98) loaded.\u001b[0m"
     ]
    },
    {
     "name": "stderr",
     "output_type": "stream",
     "text": [
      "                                                                                                 \r"
     ]
    },
    {
     "name": "stdout",
     "output_type": "stream",
     "text": [
      "\u001b[31mDownloaded 1609 games and skipped 1609\u001b[0m\n",
      "\u001b[32mDownloading late-titled-tuesday-blitz-may-09-2023-4016603 games\u001b[0m\n",
      "\u001b[32mPage 2 (247) loaded.\u001b[0m\u001b[32mPage 3 (262) loaded.\u001b[0m\u001b[32mPage 4 (278) loaded.\u001b[0m\u001b[32mPage 5 (280) loaded.\u001b[0m\u001b[32mPage 6 (276) loaded.\u001b[0m\u001b[32mPage 7 (283) loaded.\u001b[0m\u001b[32mPage 8 (268) loaded.\u001b[0m\u001b[32mPage 9 (258) loaded.\u001b[0m\u001b[32mPage 10 (192) loaded.\u001b[0m\u001b[32mPage 11 (148) loaded.\u001b[0m\u001b[32mPage 12 (208) loaded.\u001b[0m\u001b[32mPage 13 (188) loaded.\u001b[0m\u001b[32mPage 14 (155) loaded.\u001b[0m\u001b[32mPage 15 (123) loaded.\u001b[0m"
     ]
    },
    {
     "name": "stderr",
     "output_type": "stream",
     "text": [
      "                                                                                                \r"
     ]
    },
    {
     "name": "stdout",
     "output_type": "stream",
     "text": [
      "\u001b[31mDownloaded 1582 games and skipped 1582\u001b[0m\n",
      "\u001b[32mDownloading late-titled-tuesday-blitz-april-11-2023-3961659 games\u001b[0m\n",
      "\u001b[32mPage 2 (241) loaded.\u001b[0m\u001b[32mPage 3 (256) loaded.\u001b[0m\u001b[32mPage 4 (276) loaded.\u001b[0m\u001b[32mPage 5 (285) loaded.\u001b[0m\u001b[32mPage 6 (277) loaded.\u001b[0m\u001b[32mPage 7 (280) loaded.\u001b[0m\u001b[32mPage 8 (272) loaded.\u001b[0m\u001b[32mPage 9 (268) loaded.\u001b[0m\u001b[32mPage 10 (247) loaded.\u001b[0m\u001b[32mPage 11 (180) loaded.\u001b[0m\u001b[32mPage 12 (133) loaded.\u001b[0m\u001b[32mPage 13 (216) loaded.\u001b[0m\u001b[32mPage 14 (194) loaded.\u001b[0m\u001b[32mPage 15 (154) loaded.\u001b[0m\u001b[32mPage 16 (154) loaded.\u001b[0m\u001b[32mPage 17 (91) loaded.\u001b[0m\u001b[32mPage 18 (90) loaded.\u001b[0m"
     ]
    },
    {
     "name": "stderr",
     "output_type": "stream",
     "text": [
      "                                                                                                  \r"
     ]
    },
    {
     "name": "stdout",
     "output_type": "stream",
     "text": [
      "\u001b[31mDownloaded 1727 games and skipped 1727\u001b[0m\n",
      "\u001b[32mDownloading early-titled-tuesday-blitz-march-28-2023-3934067 games\u001b[0m\n",
      "\u001b[32mPage 2 (242) loaded.\u001b[0m\u001b[32mPage 3 (277) loaded.\u001b[0m\u001b[32mPage 4 (273) loaded.\u001b[0m\u001b[32mPage 5 (287) loaded.\u001b[0m\u001b[32mPage 6 (295) loaded.\u001b[0m\u001b[32mPage 7 (291) loaded.\u001b[0m\u001b[32mPage 8 (278) loaded.\u001b[0m\u001b[32mPage 9 (286) loaded.\u001b[0m\u001b[32mPage 10 (282) loaded.\u001b[0m\u001b[32mPage 11 (265) loaded.\u001b[0m\u001b[32mPage 12 (286) loaded.\u001b[0m\u001b[32mPage 13 (260) loaded.\u001b[0m\u001b[32mPage 14 (241) loaded.\u001b[0m\u001b[32mPage 15 (147) loaded.\u001b[0m\u001b[32mPage 16 (192) loaded.\u001b[0m\u001b[32mPage 17 (225) loaded.\u001b[0m\u001b[32mPage 18 (187) loaded.\u001b[0m\u001b[32mPage 19 (175) loaded.\u001b[0m\u001b[32mPage 20 (152) loaded.\u001b[0m\u001b[32mPage 21 (103) loaded.\u001b[0m"
     ]
    },
    {
     "name": "stderr",
     "output_type": "stream",
     "text": [
      "                                                                                                   \r"
     ]
    },
    {
     "name": "stdout",
     "output_type": "stream",
     "text": [
      "\u001b[31mDownloaded 2301 games and skipped 2301\u001b[0m\n",
      "\u001b[32mDownloading early-titled-tuesday-blitz-may-02-2023-4002919 games\u001b[0m\n",
      "\u001b[32mPage 2 (242) loaded.\u001b[0m\u001b[32mPage 3 (271) loaded.\u001b[0m\u001b[32mPage 4 (283) loaded.\u001b[0m\u001b[32mPage 5 (279) loaded.\u001b[0m\u001b[32mPage 6 (288) loaded.\u001b[0m\u001b[32mPage 7 (282) loaded.\u001b[0m\u001b[32mPage 8 (283) loaded.\u001b[0m\u001b[32mPage 9 (295) loaded.\u001b[0m\u001b[32mPage 10 (277) loaded.\u001b[0m\u001b[32mPage 11 (281) loaded.\u001b[0m\u001b[32mPage 12 (268) loaded.\u001b[0m\u001b[32mPage 13 (250) loaded.\u001b[0m\u001b[32mPage 14 (192) loaded.\u001b[0m\u001b[32mPage 15 (151) loaded.\u001b[0m\u001b[32mPage 16 (215) loaded.\u001b[0m\u001b[32mPage 17 (201) loaded.\u001b[0m\u001b[32mPage 18 (171) loaded.\u001b[0m\u001b[32mPage 19 (158) loaded.\u001b[0m\u001b[32mPage 20 (119) loaded.\u001b[0m\u001b[32mPage 21 (119) loaded.\u001b[0m\u001b[32mPage 22 (66) loaded.\u001b[0m"
     ]
    },
    {
     "name": "stderr",
     "output_type": "stream",
     "text": [
      "                                                                                                 \r"
     ]
    },
    {
     "name": "stdout",
     "output_type": "stream",
     "text": [
      "\u001b[31mDownloaded 2213 games and skipped 2213\u001b[0m\n",
      "\u001b[32mDownloading early-titled-tuesday-blitz-june-20-2023-4088063 games\u001b[0m\n",
      "\u001b[32mPage 2 (246) loaded.\u001b[0m\u001b[32mPage 3 (276) loaded.\u001b[0m\u001b[32mPage 4 (276) loaded.\u001b[0m\u001b[32mPage 5 (288) loaded.\u001b[0m\u001b[32mPage 6 (288) loaded.\u001b[0m\u001b[32mPage 7 (294) loaded.\u001b[0m\u001b[32mPage 8 (291) loaded.\u001b[0m\u001b[32mPage 9 (277) loaded.\u001b[0m\u001b[32mPage 10 (292) loaded.\u001b[0m\u001b[32mPage 11 (274) loaded.\u001b[0m\u001b[32mPage 12 (267) loaded.\u001b[0m\u001b[32mPage 13 (249) loaded.\u001b[0m\u001b[32mPage 14 (200) loaded.\u001b[0m\u001b[32mPage 15 (134) loaded.\u001b[0m\u001b[32mPage 16 (220) loaded.\u001b[0m\u001b[32mPage 17 (195) loaded.\u001b[0m\u001b[32mPage 18 (195) loaded.\u001b[0m\u001b[32mPage 19 (131) loaded.\u001b[0m\u001b[32mPage 20 (151) loaded.\u001b[0m\u001b[32mPage 21 (95) loaded.\u001b[0m\u001b[32mPage 22 (94) loaded.\u001b[0m"
     ]
    },
    {
     "name": "stderr",
     "output_type": "stream",
     "text": [
      "                                                                                                  \r"
     ]
    },
    {
     "name": "stdout",
     "output_type": "stream",
     "text": [
      "\u001b[31mDownloaded 2228 games and skipped 2228\u001b[0m\n",
      "\u001b[32mDownloading early-titled-tuesday-blitz-may-09-2023-4016602 games\u001b[0m\n",
      "\u001b[32mPage 2 (243) loaded.\u001b[0m\u001b[32mPage 3 (266) loaded.\u001b[0m\u001b[32mPage 4 (278) loaded.\u001b[0m\u001b[32mPage 5 (283) loaded.\u001b[0m\u001b[32mPage 6 (288) loaded.\u001b[0m\u001b[32mPage 7 (281) loaded.\u001b[0m\u001b[32mPage 8 (289) loaded.\u001b[0m\u001b[32mPage 9 (276) loaded.\u001b[0m\u001b[32mPage 10 (267) loaded.\u001b[0m\u001b[32mPage 11 (270) loaded.\u001b[0m\u001b[32mPage 12 (248) loaded.\u001b[0m\u001b[32mPage 13 (198) loaded.\u001b[0m\u001b[32mPage 14 (127) loaded.\u001b[0m\u001b[32mPage 15 (210) loaded.\u001b[0m\u001b[32mPage 16 (198) loaded.\u001b[0m\u001b[32mPage 17 (171) loaded.\u001b[0m\u001b[32mPage 18 (139) loaded.\u001b[0m\u001b[32mPage 19 (113) loaded.\u001b[0m\u001b[32mPage 20 (105) loaded.\u001b[0m"
     ]
    },
    {
     "name": "stderr",
     "output_type": "stream",
     "text": [
      "                                                                                                 \r"
     ]
    },
    {
     "name": "stdout",
     "output_type": "stream",
     "text": [
      "\u001b[31mDownloaded 2015 games and skipped 2015\u001b[0m\n",
      "\u001b[32mDownloading early-titled-tuesday-blitz-june-13-2023-4073113 games\u001b[0m\n",
      "\u001b[32mPage 2 (243) loaded.\u001b[0m\u001b[32mPage 3 (274) loaded.\u001b[0m\u001b[32mPage 4 (273) loaded.\u001b[0m\u001b[32mPage 5 (282) loaded.\u001b[0m\u001b[32mPage 6 (286) loaded.\u001b[0m\u001b[32mPage 7 (283) loaded.\u001b[0m\u001b[32mPage 8 (288) loaded.\u001b[0m\u001b[32mPage 9 (283) loaded.\u001b[0m\u001b[32mPage 10 (282) loaded.\u001b[0m\u001b[32mPage 11 (282) loaded.\u001b[0m\u001b[32mPage 12 (279) loaded.\u001b[0m\u001b[32mPage 13 (258) loaded.\u001b[0m\u001b[32mPage 14 (195) loaded.\u001b[0m\u001b[32mPage 15 (152) loaded.\u001b[0m\u001b[32mPage 16 (214) loaded.\u001b[0m\u001b[32mPage 17 (204) loaded.\u001b[0m\u001b[32mPage 18 (167) loaded.\u001b[0m\u001b[32mPage 19 (142) loaded.\u001b[0m\u001b[32mPage 20 (92) loaded.\u001b[0m\u001b[32mPage 21 (114) loaded.\u001b[0m"
     ]
    },
    {
     "name": "stderr",
     "output_type": "stream",
     "text": [
      "                                                                                                  \r"
     ]
    },
    {
     "name": "stdout",
     "output_type": "stream",
     "text": [
      "\u001b[31mDownloaded 2189 games and skipped 2189\u001b[0m\n",
      "\u001b[32mDownloading late-titled-tuesday-blitz-may-16-2023-4020318 games\u001b[0m\n",
      "\u001b[32mPage 2 (245) loaded.\u001b[0m\u001b[32mPage 3 (267) loaded.\u001b[0m\u001b[32mPage 4 (270) loaded.\u001b[0m\u001b[32mPage 5 (286) loaded.\u001b[0m\u001b[32mPage 6 (280) loaded.\u001b[0m\u001b[32mPage 7 (280) loaded.\u001b[0m\u001b[32mPage 8 (263) loaded.\u001b[0m\u001b[32mPage 9 (263) loaded.\u001b[0m\u001b[32mPage 10 (230) loaded.\u001b[0m\u001b[32mPage 11 (169) loaded.\u001b[0m\u001b[32mPage 12 (180) loaded.\u001b[0m\u001b[32mPage 13 (210) loaded.\u001b[0m\u001b[32mPage 14 (181) loaded.\u001b[0m\u001b[32mPage 15 (161) loaded.\u001b[0m\u001b[32mPage 16 (147) loaded.\u001b[0m\u001b[32mPage 17 (104) loaded.\u001b[0m\u001b[32mPage 18 (101) loaded.\u001b[0m"
     ]
    },
    {
     "name": "stderr",
     "output_type": "stream",
     "text": [
      "                                                                                                \r"
     ]
    },
    {
     "name": "stdout",
     "output_type": "stream",
     "text": [
      "\u001b[31mDownloaded 1738 games and skipped 1738\u001b[0m\n",
      "\u001b[32mDownloading titled-tuesdays games\u001b[0m\n",
      "\u001b[31mNo games found for titled-tuesdays\u001b[0m\n",
      "\u001b[32mDownloading early-titled-tuesday-blitz-may-16-2023-4020317 games\u001b[0m\n",
      "\u001b[32mPage 2 (252) loaded.\u001b[0m\u001b[32mPage 3 (272) loaded.\u001b[0m\u001b[32mPage 4 (282) loaded.\u001b[0m\u001b[32mPage 5 (281) loaded.\u001b[0m\u001b[32mPage 6 (292) loaded.\u001b[0m\u001b[32mPage 7 (287) loaded.\u001b[0m\u001b[32mPage 8 (290) loaded.\u001b[0m\u001b[32mPage 9 (288) loaded.\u001b[0m\u001b[32mPage 10 (281) loaded.\u001b[0m\u001b[32mPage 11 (274) loaded.\u001b[0m\u001b[32mPage 12 (283) loaded.\u001b[0m\u001b[32mPage 13 (249) loaded.\u001b[0m\u001b[32mPage 14 (246) loaded.\u001b[0m\u001b[32mPage 15 (184) loaded.\u001b[0m\u001b[32mPage 16 (145) loaded.\u001b[0m\u001b[32mPage 17 (233) loaded.\u001b[0m\u001b[32mPage 18 (205) loaded.\u001b[0m\u001b[32mPage 19 (181) loaded.\u001b[0m\u001b[32mPage 20 (141) loaded.\u001b[0m\u001b[32mPage 21 (155) loaded.\u001b[0m\u001b[32mPage 22 (121) loaded.\u001b[0m\u001b[32mPage 23 (88) loaded.\u001b[0m"
     ]
    },
    {
     "name": "stderr",
     "output_type": "stream",
     "text": [
      "                                                                                                 \r"
     ]
    },
    {
     "name": "stdout",
     "output_type": "stream",
     "text": [
      "\u001b[31mDownloaded 2368 games and skipped 2368\u001b[0m\n",
      "\u001b[32mDownloading early-titled-tuesday-blitz-may-30-2023-4047637 games\u001b[0m\n",
      "\u001b[32mPage 2 (244) loaded.\u001b[0m\u001b[32mPage 3 (257) loaded.\u001b[0m\u001b[32mPage 4 (282) loaded.\u001b[0m\u001b[32mPage 5 (282) loaded.\u001b[0m\u001b[32mPage 6 (286) loaded.\u001b[0m\u001b[32mPage 7 (278) loaded.\u001b[0m\u001b[32mPage 8 (289) loaded.\u001b[0m\u001b[32mPage 9 (272) loaded.\u001b[0m\u001b[32mPage 10 (271) loaded.\u001b[0m\u001b[32mPage 11 (269) loaded.\u001b[0m\u001b[32mPage 12 (197) loaded.\u001b[0m\u001b[32mPage 13 (189) loaded.\u001b[0m\u001b[32mPage 14 (220) loaded.\u001b[0m\u001b[32mPage 15 (200) loaded.\u001b[0m\u001b[32mPage 16 (179) loaded.\u001b[0m\u001b[32mPage 17 (143) loaded.\u001b[0m\u001b[32mPage 18 (90) loaded.\u001b[0m"
     ]
    },
    {
     "name": "stderr",
     "output_type": "stream",
     "text": [
      "                                                                                                 \r"
     ]
    },
    {
     "name": "stdout",
     "output_type": "stream",
     "text": [
      "\u001b[31mDownloaded 1920 games and skipped 1920\u001b[0m\n",
      "\u001b[32mDownloading late-titled-tuesday-blitz-june-13-2023-4073114 games\u001b[0m\n",
      "\u001b[32mPage 2 (247) loaded.\u001b[0m\u001b[32mPage 3 (265) loaded.\u001b[0m\u001b[32mPage 4 (280) loaded.\u001b[0m\u001b[32mPage 5 (283) loaded.\u001b[0m\u001b[32mPage 6 (287) loaded.\u001b[0m\u001b[32mPage 7 (279) loaded.\u001b[0m\u001b[32mPage 8 (265) loaded.\u001b[0m\u001b[32mPage 9 (273) loaded.\u001b[0m\u001b[32mPage 10 (267) loaded.\u001b[0m\u001b[32mPage 11 (232) loaded.\u001b[0m\u001b[32mPage 12 (115) loaded.\u001b[0m\u001b[32mPage 13 (232) loaded.\u001b[0m\u001b[32mPage 14 (209) loaded.\u001b[0m\u001b[32mPage 15 (166) loaded.\u001b[0m\u001b[32mPage 16 (150) loaded.\u001b[0m\u001b[32mPage 17 (104) loaded.\u001b[0m\u001b[32mPage 18 (111) loaded.\u001b[0m"
     ]
    },
    {
     "name": "stderr",
     "output_type": "stream",
     "text": [
      "                                                                                                 \r"
     ]
    },
    {
     "name": "stdout",
     "output_type": "stream",
     "text": [
      "\u001b[31mDownloaded 1786 games and skipped 1786\u001b[0m\n",
      "\u001b[32mDownloading late-titled-tuesday-blitz-may-02-2023-4002920 games\u001b[0m\n",
      "\u001b[32mPage 2 (248) loaded.\u001b[0m\u001b[32mPage 3 (270) loaded.\u001b[0m\u001b[32mPage 4 (276) loaded.\u001b[0m\u001b[32mPage 5 (291) loaded.\u001b[0m\u001b[32mPage 6 (289) loaded.\u001b[0m\u001b[32mPage 7 (283) loaded.\u001b[0m\u001b[32mPage 8 (268) loaded.\u001b[0m\u001b[32mPage 9 (258) loaded.\u001b[0m\u001b[32mPage 10 (218) loaded.\u001b[0m\u001b[32mPage 11 (132) loaded.\u001b[0m\u001b[32mPage 12 (217) loaded.\u001b[0m\u001b[32mPage 13 (212) loaded.\u001b[0m\u001b[32mPage 14 (186) loaded.\u001b[0m\u001b[32mPage 15 (153) loaded.\u001b[0m\u001b[32mPage 16 (147) loaded.\u001b[0m\u001b[32mPage 17 (118) loaded.\u001b[0m\u001b[32mPage 18 (81) loaded.\u001b[0m"
     ]
    },
    {
     "name": "stderr",
     "output_type": "stream",
     "text": [
      "                                                                                                \r"
     ]
    },
    {
     "name": "stdout",
     "output_type": "stream",
     "text": [
      "\u001b[31mDownloaded 1735 games and skipped 1735\u001b[0m\n",
      "\u001b[32mDownloading late-titled-tuesday-blitz-january-31-2023-3732262 games\u001b[0m\n",
      "\u001b[32mPage 2 (242) loaded.\u001b[0m\u001b[32mPage 3 (271) loaded.\u001b[0m\u001b[32mPage 4 (281) loaded.\u001b[0m\u001b[32mPage 5 (291) loaded.\u001b[0m\u001b[32mPage 6 (265) loaded.\u001b[0m\u001b[32mPage 7 (287) loaded.\u001b[0m\u001b[32mPage 8 (273) loaded.\u001b[0m\u001b[32mPage 9 (267) loaded.\u001b[0m\u001b[32mPage 10 (234) loaded.\u001b[0m\u001b[32mPage 11 (158) loaded.\u001b[0m\u001b[32mPage 12 (110) loaded.\u001b[0m\u001b[32mPage 13 (216) loaded.\u001b[0m\u001b[32mPage 14 (186) loaded.\u001b[0m\u001b[32mPage 15 (184) loaded.\u001b[0m\u001b[32mPage 16 (154) loaded.\u001b[0m\u001b[32mPage 17 (114) loaded.\u001b[0m\u001b[32mPage 18 (97) loaded.\u001b[0m"
     ]
    },
    {
     "name": "stderr",
     "output_type": "stream",
     "text": [
      "                                                                                                    \r"
     ]
    },
    {
     "name": "stdout",
     "output_type": "stream",
     "text": [
      "\u001b[31mDownloaded 1738 games and skipped 1738\u001b[0m\n",
      "\u001b[32mDownloading early-titled-tuesday-blitz-march-14-2023-3894520 games\u001b[0m\n",
      "\u001b[32mPage 2 (230) loaded.\u001b[0m\u001b[32mPage 3 (259) loaded.\u001b[0m\u001b[32mPage 4 (265) loaded.\u001b[0m\u001b[32mPage 5 (276) loaded.\u001b[0m\u001b[32mPage 6 (271) loaded.\u001b[0m\u001b[32mPage 7 (249) loaded.\u001b[0m\u001b[32mPage 8 (198) loaded.\u001b[0m\u001b[32mPage 9 (167) loaded.\u001b[0m\u001b[32mPage 10 (178) loaded.\u001b[0m\u001b[32mPage 11 (142) loaded.\u001b[0m\u001b[32mPage 12 (85) loaded.\u001b[0m"
     ]
    },
    {
     "name": "stderr",
     "output_type": "stream",
     "text": [
      "                                                                                                   \r"
     ]
    },
    {
     "name": "stdout",
     "output_type": "stream",
     "text": [
      "\u001b[31mDownloaded 1149 games and skipped 1149\u001b[0m\n",
      "\u001b[32mDownloading early-titled-tuesday-blitz-december-27-2022-3663540 games\u001b[0m\n",
      "\u001b[32mPage 2 (240) loaded.\u001b[0m\u001b[32mPage 3 (270) loaded.\u001b[0m\u001b[32mPage 4 (276) loaded.\u001b[0m\u001b[32mPage 5 (278) loaded.\u001b[0m\u001b[32mPage 6 (280) loaded.\u001b[0m\u001b[32mPage 7 (274) loaded.\u001b[0m\u001b[32mPage 8 (272) loaded.\u001b[0m\u001b[32mPage 9 (255) loaded.\u001b[0m\u001b[32mPage 10 (235) loaded.\u001b[0m\u001b[32mPage 11 (154) loaded.\u001b[0m\u001b[32mPage 12 (233) loaded.\u001b[0m\u001b[32mPage 13 (188) loaded.\u001b[0m\u001b[32mPage 14 (149) loaded.\u001b[0m\u001b[32mPage 15 (121) loaded.\u001b[0m\u001b[32mPage 16 (102) loaded.\u001b[0m"
     ]
    },
    {
     "name": "stderr",
     "output_type": "stream",
     "text": [
      "                                                                                                      \r"
     ]
    },
    {
     "name": "stdout",
     "output_type": "stream",
     "text": [
      "\u001b[31mDownloaded 1595 games and skipped 1595\u001b[0m\n",
      "\u001b[32mDownloading late-titled-tuesday-blitz-december-27-2022-3663541 games\u001b[0m\n",
      "\u001b[32mPage 2 (239) loaded.\u001b[0m\u001b[32mPage 3 (263) loaded.\u001b[0m\u001b[32mPage 4 (277) loaded.\u001b[0m\u001b[32mPage 5 (269) loaded.\u001b[0m\u001b[32mPage 6 (259) loaded.\u001b[0m\u001b[32mPage 7 (250) loaded.\u001b[0m\u001b[32mPage 8 (199) loaded.\u001b[0m\u001b[32mPage 9 (165) loaded.\u001b[0m\u001b[32mPage 10 (206) loaded.\u001b[0m\u001b[32mPage 11 (146) loaded.\u001b[0m\u001b[32mPage 12 (158) loaded.\u001b[0m\u001b[32mPage 13 (99) loaded.\u001b[0m"
     ]
    },
    {
     "name": "stderr",
     "output_type": "stream",
     "text": [
      "                                                                                                     \r"
     ]
    },
    {
     "name": "stdout",
     "output_type": "stream",
     "text": [
      "\u001b[31mDownloaded 1248 games and skipped 1248\u001b[0m\n",
      "\u001b[32mDownloading early-titled-tuesday-blitz-february-28-2023-3857481 games\u001b[0m\n",
      "\u001b[32mPage 2 (240) loaded.\u001b[0m\u001b[32mPage 3 (268) loaded.\u001b[0m\u001b[32mPage 4 (279) loaded.\u001b[0m\u001b[32mPage 5 (285) loaded.\u001b[0m\u001b[32mPage 6 (282) loaded.\u001b[0m\u001b[32mPage 7 (286) loaded.\u001b[0m\u001b[32mPage 8 (284) loaded.\u001b[0m\u001b[32mPage 9 (288) loaded.\u001b[0m\u001b[32mPage 10 (278) loaded.\u001b[0m\u001b[32mPage 11 (285) loaded.\u001b[0m\u001b[32mPage 12 (266) loaded.\u001b[0m\u001b[32mPage 13 (242) loaded.\u001b[0m\u001b[32mPage 14 (194) loaded.\u001b[0m\u001b[32mPage 15 (168) loaded.\u001b[0m\u001b[32mPage 16 (215) loaded.\u001b[0m\u001b[32mPage 17 (195) loaded.\u001b[0m\u001b[32mPage 18 (145) loaded.\u001b[0m\u001b[32mPage 19 (136) loaded.\u001b[0m\u001b[32mPage 20 (97) loaded.\u001b[0m\u001b[32mPage 21 (95) loaded.\u001b[0m"
     ]
    },
    {
     "name": "stderr",
     "output_type": "stream",
     "text": [
      "                                                                                                      \r"
     ]
    },
    {
     "name": "stdout",
     "output_type": "stream",
     "text": [
      "\u001b[31mDownloaded 2151 games and skipped 2151\u001b[0m\n",
      "\u001b[32mDownloading late-titled-tuesday-blitz-february-21-2023-3833636 games\u001b[0m\n",
      "\u001b[32mPage 2 (238) loaded.\u001b[0m\u001b[32mPage 3 (260) loaded.\u001b[0m\u001b[32mPage 4 (278) loaded.\u001b[0m\u001b[32mPage 5 (286) loaded.\u001b[0m\u001b[32mPage 6 (274) loaded.\u001b[0m\u001b[32mPage 7 (284) loaded.\u001b[0m\u001b[32mPage 8 (278) loaded.\u001b[0m\u001b[32mPage 9 (258) loaded.\u001b[0m\u001b[32mPage 10 (232) loaded.\u001b[0m\u001b[32mPage 11 (174) loaded.\u001b[0m\u001b[32mPage 12 (166) loaded.\u001b[0m\u001b[32mPage 13 (201) loaded.\u001b[0m\u001b[32mPage 14 (172) loaded.\u001b[0m\u001b[32mPage 15 (141) loaded.\u001b[0m\u001b[32mPage 16 (90) loaded.\u001b[0m"
     ]
    },
    {
     "name": "stderr",
     "output_type": "stream",
     "text": [
      "                                                                                                     \r"
     ]
    },
    {
     "name": "stdout",
     "output_type": "stream",
     "text": [
      "\u001b[31mDownloaded 1617 games and skipped 1617\u001b[0m\n",
      "\u001b[32mDownloading late-titled-tuesday-blitz-march-21-2023-3920019 games\u001b[0m\n",
      "\u001b[32mPage 2 (244) loaded.\u001b[0m\u001b[32mPage 3 (267) loaded.\u001b[0m\u001b[32mPage 4 (284) loaded.\u001b[0m\u001b[32mPage 5 (286) loaded.\u001b[0m\u001b[32mPage 6 (279) loaded.\u001b[0m\u001b[32mPage 7 (287) loaded.\u001b[0m\u001b[32mPage 8 (263) loaded.\u001b[0m\u001b[32mPage 9 (270) loaded.\u001b[0m\u001b[32mPage 10 (237) loaded.\u001b[0m\u001b[32mPage 11 (172) loaded.\u001b[0m\u001b[32mPage 12 (141) loaded.\u001b[0m\u001b[32mPage 13 (210) loaded.\u001b[0m\u001b[32mPage 14 (182) loaded.\u001b[0m\u001b[32mPage 15 (151) loaded.\u001b[0m\u001b[32mPage 16 (150) loaded.\u001b[0m\u001b[32mPage 17 (100) loaded.\u001b[0m"
     ]
    },
    {
     "name": "stderr",
     "output_type": "stream",
     "text": [
      "                                                                                                  \r"
     ]
    },
    {
     "name": "stdout",
     "output_type": "stream",
     "text": [
      "\u001b[31mDownloaded 1694 games and skipped 1694\u001b[0m\n",
      "\u001b[32mDownloading late-titled-tuesday-blitz-march-14-2023-3894521 games\u001b[0m\n",
      "\u001b[32mPage 2 (243) loaded.\u001b[0m\u001b[32mPage 3 (272) loaded.\u001b[0m\u001b[32mPage 4 (265) loaded.\u001b[0m\u001b[32mPage 5 (287) loaded.\u001b[0m\u001b[32mPage 6 (278) loaded.\u001b[0m\u001b[32mPage 7 (257) loaded.\u001b[0m\u001b[32mPage 8 (246) loaded.\u001b[0m\u001b[32mPage 9 (243) loaded.\u001b[0m\u001b[32mPage 10 (166) loaded.\u001b[0m\u001b[32mPage 11 (157) loaded.\u001b[0m\u001b[32mPage 12 (192) loaded.\u001b[0m\u001b[32mPage 13 (146) loaded.\u001b[0m\u001b[32mPage 14 (143) loaded.\u001b[0m\u001b[32mPage 15 (100) loaded.\u001b[0m\u001b[32mPage 16 (57) loaded.\u001b[0m"
     ]
    },
    {
     "name": "stderr",
     "output_type": "stream",
     "text": [
      "                                                                                                  \r"
     ]
    },
    {
     "name": "stdout",
     "output_type": "stream",
     "text": [
      "\u001b[31mDownloaded 1443 games and skipped 1443\u001b[0m\n",
      "\u001b[32mDownloading late-titled-tuesday-blitz-january-24-2023-3718404 games\u001b[0m\n",
      "\u001b[32mPage 2 (239) loaded.\u001b[0m\u001b[32mPage 3 (262) loaded.\u001b[0m\u001b[32mPage 4 (272) loaded.\u001b[0m\u001b[32mPage 5 (283) loaded.\u001b[0m\u001b[32mPage 6 (283) loaded.\u001b[0m\u001b[32mPage 7 (278) loaded.\u001b[0m\u001b[32mPage 8 (274) loaded.\u001b[0m\u001b[32mPage 9 (248) loaded.\u001b[0m\u001b[32mPage 10 (218) loaded.\u001b[0m\u001b[32mPage 11 (133) loaded.\u001b[0m\u001b[32mPage 12 (210) loaded.\u001b[0m\u001b[32mPage 13 (193) loaded.\u001b[0m\u001b[32mPage 14 (142) loaded.\u001b[0m\u001b[32mPage 15 (121) loaded.\u001b[0m\u001b[32mPage 16 (94) loaded.\u001b[0m"
     ]
    },
    {
     "name": "stderr",
     "output_type": "stream",
     "text": [
      "                                                                                                    \r"
     ]
    },
    {
     "name": "stdout",
     "output_type": "stream",
     "text": [
      "\u001b[31mDownloaded 1576 games and skipped 1576\u001b[0m\n",
      "\u001b[32mDownloading late-titled-tuesday-blitz-february-28-2023-3857482 games\u001b[0m\n",
      "\u001b[32mPage 2 (242) loaded.\u001b[0m\u001b[32mPage 3 (267) loaded.\u001b[0m\u001b[32mPage 4 (276) loaded.\u001b[0m\u001b[32mPage 5 (284) loaded.\u001b[0m\u001b[32mPage 6 (273) loaded.\u001b[0m\u001b[32mPage 7 (274) loaded.\u001b[0m\u001b[32mPage 8 (277) loaded.\u001b[0m\u001b[32mPage 9 (258) loaded.\u001b[0m\u001b[32mPage 10 (224) loaded.\u001b[0m\u001b[32mPage 11 (131) loaded.\u001b[0m\u001b[32mPage 12 (212) loaded.\u001b[0m\u001b[32mPage 13 (189) loaded.\u001b[0m\u001b[32mPage 14 (158) loaded.\u001b[0m\u001b[32mPage 15 (147) loaded.\u001b[0m\u001b[32mPage 16 (103) loaded.\u001b[0m\u001b[32mPage 17 (89) loaded.\u001b[0m"
     ]
    },
    {
     "name": "stderr",
     "output_type": "stream",
     "text": [
      "                                                                                                     \r"
     ]
    },
    {
     "name": "stdout",
     "output_type": "stream",
     "text": [
      "\u001b[31mDownloaded 1632 games and skipped 1632\u001b[0m\n",
      "\u001b[32mDownloading late-titled-tuesday-blitz-january-17-2023-3704680 games\u001b[0m\n",
      "\u001b[32mPage 2 (238) loaded.\u001b[0m\u001b[32mPage 3 (266) loaded.\u001b[0m\u001b[32mPage 4 (280) loaded.\u001b[0m\u001b[32mPage 5 (284) loaded.\u001b[0m\u001b[32mPage 6 (279) loaded.\u001b[0m\u001b[32mPage 7 (276) loaded.\u001b[0m\u001b[32mPage 8 (266) loaded.\u001b[0m\u001b[32mPage 9 (252) loaded.\u001b[0m\u001b[32mPage 10 (190) loaded.\u001b[0m\u001b[32mPage 11 (154) loaded.\u001b[0m\u001b[32mPage 12 (221) loaded.\u001b[0m\u001b[32mPage 13 (169) loaded.\u001b[0m\u001b[32mPage 14 (145) loaded.\u001b[0m\u001b[32mPage 15 (143) loaded.\u001b[0m\u001b[32mPage 16 (96) loaded.\u001b[0m"
     ]
    },
    {
     "name": "stderr",
     "output_type": "stream",
     "text": [
      "                                                                                                    \r"
     ]
    },
    {
     "name": "stdout",
     "output_type": "stream",
     "text": [
      "\u001b[31mDownloaded 1578 games and skipped 1578\u001b[0m\n",
      "\u001b[32mDownloading early-titled-tuesday-blitz-january-31-2023-3732261 games\u001b[0m\n",
      "\u001b[32mPage 2 (244) loaded.\u001b[0m\u001b[32mPage 3 (264) loaded.\u001b[0m\u001b[32mPage 4 (278) loaded.\u001b[0m\u001b[32mPage 5 (285) loaded.\u001b[0m\u001b[32mPage 6 (272) loaded.\u001b[0m\u001b[32mPage 7 (280) loaded.\u001b[0m\u001b[32mPage 8 (276) loaded.\u001b[0m\u001b[32mPage 9 (277) loaded.\u001b[0m\u001b[32mPage 10 (281) loaded.\u001b[0m\u001b[32mPage 11 (267) loaded.\u001b[0m\u001b[32mPage 12 (237) loaded.\u001b[0m\u001b[32mPage 13 (175) loaded.\u001b[0m\u001b[32mPage 14 (107) loaded.\u001b[0m\u001b[32mPage 15 (80) loaded.\u001b[0m\u001b[32mPage 16 (102) loaded.\u001b[0m\u001b[32mPage 17 (211) loaded.\u001b[0m\u001b[32mPage 18 (177) loaded.\u001b[0m\u001b[32mPage 19 (187) loaded.\u001b[0m\u001b[32mPage 20 (140) loaded.\u001b[0m\u001b[32mPage 21 (101) loaded.\u001b[0m\u001b[32mPage 22 (121) loaded.\u001b[0m"
     ]
    },
    {
     "name": "stderr",
     "output_type": "stream",
     "text": [
      "                                                                                                     \r"
     ]
    },
    {
     "name": "stdout",
     "output_type": "stream",
     "text": [
      "\u001b[31mDownloaded 2060 games and skipped 2060\u001b[0m\n",
      "\u001b[32mDownloading late-titled-tuesday-blitz-march-07-2023-3881869 games\u001b[0m\n",
      "\u001b[32mPage 2 (235) loaded.\u001b[0m\u001b[32mPage 3 (263) loaded.\u001b[0m\u001b[32mPage 4 (278) loaded.\u001b[0m\u001b[32mPage 5 (294) loaded.\u001b[0m\u001b[32mPage 6 (289) loaded.\u001b[0m\u001b[32mPage 7 (280) loaded.\u001b[0m\u001b[32mPage 8 (278) loaded.\u001b[0m\u001b[32mPage 9 (266) loaded.\u001b[0m\u001b[32mPage 10 (247) loaded.\u001b[0m\u001b[32mPage 11 (191) loaded.\u001b[0m\u001b[32mPage 12 (143) loaded.\u001b[0m\u001b[32mPage 13 (228) loaded.\u001b[0m\u001b[32mPage 14 (167) loaded.\u001b[0m\u001b[32mPage 15 (143) loaded.\u001b[0m\u001b[32mPage 16 (108) loaded.\u001b[0m\u001b[32mPage 17 (92) loaded.\u001b[0m"
     ]
    },
    {
     "name": "stderr",
     "output_type": "stream",
     "text": [
      "                                                                                                  \r"
     ]
    },
    {
     "name": "stdout",
     "output_type": "stream",
     "text": [
      "\u001b[31mDownloaded 1681 games and skipped 1681\u001b[0m\n",
      "\u001b[32mDownloading early-titled-tuesday-blitz-january-17-2023-3704679 games\u001b[0m\n",
      "\u001b[32mPage 2 (247) loaded.\u001b[0m\u001b[32mPage 3 (270) loaded.\u001b[0m\u001b[32mPage 4 (274) loaded.\u001b[0m\u001b[32mPage 5 (289) loaded.\u001b[0m\u001b[32mPage 6 (277) loaded.\u001b[0m\u001b[32mPage 7 (286) loaded.\u001b[0m\u001b[32mPage 8 (288) loaded.\u001b[0m\u001b[32mPage 9 (291) loaded.\u001b[0m\u001b[32mPage 10 (285) loaded.\u001b[0m\u001b[32mPage 11 (290) loaded.\u001b[0m\u001b[32mPage 12 (278) loaded.\u001b[0m\u001b[32mPage 13 (266) loaded.\u001b[0m\u001b[32mPage 14 (245) loaded.\u001b[0m\u001b[32mPage 15 (177) loaded.\u001b[0m\u001b[32mPage 16 (185) loaded.\u001b[0m\u001b[32mPage 17 (222) loaded.\u001b[0m\u001b[32mPage 18 (188) loaded.\u001b[0m\u001b[32mPage 19 (166) loaded.\u001b[0m\u001b[32mPage 20 (152) loaded.\u001b[0m\u001b[32mPage 21 (108) loaded.\u001b[0m"
     ]
    },
    {
     "name": "stderr",
     "output_type": "stream",
     "text": [
      "                                                                                                     \r"
     ]
    },
    {
     "name": "stdout",
     "output_type": "stream",
     "text": [
      "\u001b[31mDownloaded 2289 games and skipped 2289\u001b[0m\n",
      "\u001b[32mDownloading late-titled-tuesday-blitz-january-10-2023-3690114 games\u001b[0m\n",
      "\u001b[32mPage 2 (244) loaded.\u001b[0m\u001b[32mPage 3 (268) loaded.\u001b[0m\u001b[32mPage 4 (277) loaded.\u001b[0m\u001b[32mPage 5 (284) loaded.\u001b[0m\u001b[32mPage 6 (283) loaded.\u001b[0m\u001b[32mPage 7 (278) loaded.\u001b[0m\u001b[32mPage 8 (274) loaded.\u001b[0m\u001b[32mPage 9 (247) loaded.\u001b[0m\u001b[32mPage 10 (204) loaded.\u001b[0m\u001b[32mPage 11 (130) loaded.\u001b[0m\u001b[32mPage 12 (230) loaded.\u001b[0m\u001b[32mPage 13 (215) loaded.\u001b[0m\u001b[32mPage 14 (179) loaded.\u001b[0m\u001b[32mPage 15 (146) loaded.\u001b[0m\u001b[32mPage 16 (112) loaded.\u001b[0m\u001b[32mPage 17 (110) loaded.\u001b[0m"
     ]
    },
    {
     "name": "stderr",
     "output_type": "stream",
     "text": [
      "                                                                                                    \r"
     ]
    },
    {
     "name": "stdout",
     "output_type": "stream",
     "text": [
      "\u001b[31mDownloaded 1672 games and skipped 1672\u001b[0m\n",
      "\u001b[32mDownloading late-titled-tuesday-blitz-february-14-2023-3819939 games\u001b[0m\n",
      "\u001b[32mPage 2 (233) loaded.\u001b[0m\u001b[32mPage 3 (263) loaded.\u001b[0m\u001b[32mPage 4 (276) loaded.\u001b[0m\u001b[32mPage 5 (282) loaded.\u001b[0m\u001b[32mPage 6 (284) loaded.\u001b[0m\u001b[32mPage 7 (274) loaded.\u001b[0m\u001b[32mPage 8 (257) loaded.\u001b[0m\u001b[32mPage 9 (189) loaded.\u001b[0m\u001b[32mPage 10 (128) loaded.\u001b[0m\u001b[32mPage 11 (214) loaded.\u001b[0m\u001b[32mPage 12 (207) loaded.\u001b[0m\u001b[32mPage 13 (167) loaded.\u001b[0m\u001b[32mPage 14 (141) loaded.\u001b[0m\u001b[32mPage 15 (108) loaded.\u001b[0m\u001b[32mPage 16 (57) loaded.\u001b[0m"
     ]
    },
    {
     "name": "stderr",
     "output_type": "stream",
     "text": [
      "                                                                                                     \r"
     ]
    },
    {
     "name": "stdout",
     "output_type": "stream",
     "text": [
      "\u001b[31mDownloaded 1454 games and skipped 1454\u001b[0m\n",
      "\u001b[32mDownloading early-titled-tuesday-blitz-march-21-2023-3920018 games\u001b[0m\n",
      "\u001b[32mPage 2 (247) loaded.\u001b[0m\u001b[32mPage 3 (266) loaded.\u001b[0m\u001b[32mPage 4 (281) loaded.\u001b[0m\u001b[32mPage 5 (286) loaded.\u001b[0m\u001b[32mPage 6 (285) loaded.\u001b[0m\u001b[32mPage 7 (273) loaded.\u001b[0m\u001b[32mPage 8 (289) loaded.\u001b[0m\u001b[32mPage 9 (269) loaded.\u001b[0m\u001b[32mPage 10 (280) loaded.\u001b[0m\u001b[32mPage 11 (254) loaded.\u001b[0m\u001b[32mPage 12 (248) loaded.\u001b[0m\u001b[32mPage 13 (138) loaded.\u001b[0m\u001b[32mPage 14 (229) loaded.\u001b[0m\u001b[32mPage 15 (213) loaded.\u001b[0m\u001b[32mPage 16 (187) loaded.\u001b[0m\u001b[32mPage 17 (162) loaded.\u001b[0m\u001b[32mPage 18 (122) loaded.\u001b[0m\u001b[32mPage 19 (79) loaded.\u001b[0m"
     ]
    },
    {
     "name": "stderr",
     "output_type": "stream",
     "text": [
      "                                                                                                   \r"
     ]
    },
    {
     "name": "stdout",
     "output_type": "stream",
     "text": [
      "\u001b[31mDownloaded 1952 games and skipped 1952\u001b[0m\n",
      "\u001b[32mDownloading early-titled-tuesday-blitz-february-14-2023-3819938 games\u001b[0m\n",
      "\u001b[32mPage 2 (243) loaded.\u001b[0m\u001b[32mPage 3 (269) loaded.\u001b[0m\u001b[32mPage 4 (278) loaded.\u001b[0m\u001b[32mPage 5 (286) loaded.\u001b[0m\u001b[32mPage 6 (289) loaded.\u001b[0m\u001b[32mPage 7 (284) loaded.\u001b[0m\u001b[32mPage 8 (280) loaded.\u001b[0m\u001b[32mPage 9 (277) loaded.\u001b[0m\u001b[32mPage 10 (276) loaded.\u001b[0m\u001b[32mPage 11 (285) loaded.\u001b[0m\u001b[32mPage 12 (239) loaded.\u001b[0m\u001b[32mPage 13 (270) loaded.\u001b[0m\u001b[32mPage 14 (187) loaded.\u001b[0m\u001b[32mPage 15 (128) loaded.\u001b[0m\u001b[32mPage 16 (236) loaded.\u001b[0m\u001b[32mPage 17 (219) loaded.\u001b[0m\u001b[32mPage 18 (188) loaded.\u001b[0m\u001b[32mPage 19 (162) loaded.\u001b[0m\u001b[32mPage 20 (124) loaded.\u001b[0m\u001b[32mPage 21 (109) loaded.\u001b[0m\u001b[32mPage 22 (66) loaded.\u001b[0m"
     ]
    },
    {
     "name": "stderr",
     "output_type": "stream",
     "text": [
      "                                                                                                      \r"
     ]
    },
    {
     "name": "stdout",
     "output_type": "stream",
     "text": [
      "\u001b[31mDownloaded 2216 games and skipped 2216\u001b[0m\n",
      "\u001b[32mDownloading early-titled-tuesday-blitz-february-21-2023-3833634 games\u001b[0m\n",
      "\u001b[32mPage 2 (243) loaded.\u001b[0m\u001b[32mPage 3 (263) loaded.\u001b[0m\u001b[32mPage 4 (278) loaded.\u001b[0m\u001b[32mPage 5 (284) loaded.\u001b[0m\u001b[32mPage 6 (289) loaded.\u001b[0m\u001b[32mPage 7 (283) loaded.\u001b[0m\u001b[32mPage 8 (278) loaded.\u001b[0m\u001b[32mPage 9 (275) loaded.\u001b[0m\u001b[32mPage 10 (260) loaded.\u001b[0m\u001b[32mPage 11 (280) loaded.\u001b[0m\u001b[32mPage 12 (270) loaded.\u001b[0m\u001b[32mPage 13 (230) loaded.\u001b[0m\u001b[32mPage 14 (147) loaded.\u001b[0m\u001b[32mPage 15 (132) loaded.\u001b[0m\u001b[32mPage 16 (216) loaded.\u001b[0m\u001b[32mPage 17 (190) loaded.\u001b[0m\u001b[32mPage 18 (150) loaded.\u001b[0m\u001b[32mPage 19 (144) loaded.\u001b[0m\u001b[32mPage 20 (96) loaded.\u001b[0m\u001b[32mPage 21 (65) loaded.\u001b[0m"
     ]
    },
    {
     "name": "stderr",
     "output_type": "stream",
     "text": [
      "                                                                                                      \r"
     ]
    },
    {
     "name": "stdout",
     "output_type": "stream",
     "text": [
      "\u001b[31mDownloaded 2065 games and skipped 2065\u001b[0m\n",
      "\u001b[32mDownloading early-titled-tuesday-blitz-january-03-2023-3676692 games\u001b[0m\n",
      "\u001b[32mPage 2 (245) loaded.\u001b[0m\u001b[32mPage 3 (275) loaded.\u001b[0m\u001b[32mPage 4 (279) loaded.\u001b[0m\u001b[32mPage 5 (285) loaded.\u001b[0m\u001b[32mPage 6 (285) loaded.\u001b[0m\u001b[32mPage 7 (287) loaded.\u001b[0m\u001b[32mPage 8 (282) loaded.\u001b[0m\u001b[32mPage 9 (282) loaded.\u001b[0m\u001b[32mPage 10 (278) loaded.\u001b[0m\u001b[32mPage 11 (273) loaded.\u001b[0m\u001b[32mPage 12 (259) loaded.\u001b[0m\u001b[32mPage 13 (254) loaded.\u001b[0m\u001b[32mPage 14 (163) loaded.\u001b[0m\u001b[32mPage 15 (159) loaded.\u001b[0m\u001b[32mPage 16 (223) loaded.\u001b[0m\u001b[32mPage 17 (193) loaded.\u001b[0m\u001b[32mPage 18 (184) loaded.\u001b[0m\u001b[32mPage 19 (148) loaded.\u001b[0m\u001b[32mPage 20 (108) loaded.\u001b[0m\u001b[32mPage 21 (118) loaded.\u001b[0m"
     ]
    },
    {
     "name": "stderr",
     "output_type": "stream",
     "text": [
      "                                                                                                     \r"
     ]
    },
    {
     "name": "stdout",
     "output_type": "stream",
     "text": [
      "\u001b[31mDownloaded 2185 games and skipped 2185\u001b[0m\n",
      "\u001b[32mDownloading early-titled-tuesday-blitz-february-07-2023-3796151 games\u001b[0m\n",
      "\u001b[32mPage 2 (249) loaded.\u001b[0m\u001b[32mPage 3 (263) loaded.\u001b[0m\u001b[32mPage 4 (275) loaded.\u001b[0m\u001b[32mPage 5 (283) loaded.\u001b[0m\u001b[32mPage 6 (285) loaded.\u001b[0m\u001b[32mPage 7 (288) loaded.\u001b[0m\u001b[32mPage 8 (286) loaded.\u001b[0m\u001b[32mPage 9 (276) loaded.\u001b[0m\u001b[32mPage 10 (290) loaded.\u001b[0m\u001b[32mPage 11 (272) loaded.\u001b[0m\u001b[32mPage 12 (252) loaded.\u001b[0m\u001b[32mPage 13 (227) loaded.\u001b[0m\u001b[32mPage 14 (190) loaded.\u001b[0m\u001b[32mPage 15 (117) loaded.\u001b[0m\u001b[32mPage 16 (228) loaded.\u001b[0m\u001b[32mPage 17 (207) loaded.\u001b[0m\u001b[32mPage 18 (176) loaded.\u001b[0m\u001b[32mPage 19 (146) loaded.\u001b[0m\u001b[32mPage 20 (131) loaded.\u001b[0m\u001b[32mPage 21 (107) loaded.\u001b[0m\u001b[32mPage 22 (68) loaded.\u001b[0m"
     ]
    },
    {
     "name": "stderr",
     "output_type": "stream",
     "text": [
      "                                                                                                      \r"
     ]
    },
    {
     "name": "stdout",
     "output_type": "stream",
     "text": [
      "\u001b[31mDownloaded 2172 games and skipped 2172\u001b[0m\n",
      "\u001b[32mDownloading titled-tuesdays games\u001b[0m\n",
      "\u001b[31mNo games found for titled-tuesdays\u001b[0m\n",
      "\u001b[32mDownloading early-titled-tuesday-blitz-march-07-2023-3881868 games\u001b[0m\n",
      "\u001b[32mPage 2 (242) loaded.\u001b[0m\u001b[32mPage 3 (267) loaded.\u001b[0m\u001b[32mPage 4 (280) loaded.\u001b[0m\u001b[32mPage 5 (289) loaded.\u001b[0m\u001b[32mPage 6 (286) loaded.\u001b[0m\u001b[32mPage 7 (283) loaded.\u001b[0m\u001b[32mPage 8 (274) loaded.\u001b[0m\u001b[32mPage 9 (283) loaded.\u001b[0m\u001b[32mPage 10 (270) loaded.\u001b[0m\u001b[32mPage 11 (263) loaded.\u001b[0m\u001b[32mPage 12 (267) loaded.\u001b[0m\u001b[32mPage 13 (209) loaded.\u001b[0m\u001b[32mPage 14 (135) loaded.\u001b[0m\u001b[32mPage 15 (235) loaded.\u001b[0m\u001b[32mPage 16 (210) loaded.\u001b[0m\u001b[32mPage 17 (194) loaded.\u001b[0m\u001b[32mPage 18 (133) loaded.\u001b[0m\u001b[32mPage 19 (117) loaded.\u001b[0m\u001b[32mPage 20 (123) loaded.\u001b[0m"
     ]
    },
    {
     "name": "stderr",
     "output_type": "stream",
     "text": [
      "                                                                                                   \r"
     ]
    },
    {
     "name": "stdout",
     "output_type": "stream",
     "text": [
      "\u001b[31mDownloaded 2085 games and skipped 2085\u001b[0m\n",
      "\u001b[32mDownloading late-titled-tuesday-blitz-february-07-2023-3796152 games\u001b[0m\n",
      "\u001b[32mPage 2 (239) loaded.\u001b[0m\u001b[32mPage 3 (274) loaded.\u001b[0m\u001b[32mPage 4 (267) loaded.\u001b[0m\u001b[32mPage 5 (279) loaded.\u001b[0m\u001b[32mPage 6 (277) loaded.\u001b[0m\u001b[32mPage 7 (279) loaded.\u001b[0m\u001b[32mPage 8 (274) loaded.\u001b[0m\u001b[32mPage 9 (256) loaded.\u001b[0m\u001b[32mPage 10 (191) loaded.\u001b[0m\u001b[32mPage 11 (105) loaded.\u001b[0m\u001b[32mPage 12 (224) loaded.\u001b[0m\u001b[32mPage 13 (201) loaded.\u001b[0m\u001b[32mPage 14 (179) loaded.\u001b[0m\u001b[32mPage 15 (148) loaded.\u001b[0m\u001b[32mPage 16 (128) loaded.\u001b[0m\u001b[32mPage 17 (103) loaded.\u001b[0m"
     ]
    },
    {
     "name": "stderr",
     "output_type": "stream",
     "text": [
      "                                                                                                     \r"
     ]
    },
    {
     "name": "stdout",
     "output_type": "stream",
     "text": [
      "\u001b[31mDownloaded 1660 games and skipped 1660\u001b[0m\n",
      "\u001b[32mDownloading late-titled-tuesday-blitz-january-03-2023-3677210 games\u001b[0m\n",
      "\u001b[32mPage 2 (247) loaded.\u001b[0m\u001b[32mPage 3 (272) loaded.\u001b[0m\u001b[32mPage 4 (279) loaded.\u001b[0m\u001b[32mPage 5 (286) loaded.\u001b[0m\u001b[32mPage 6 (283) loaded.\u001b[0m\u001b[32mPage 7 (276) loaded.\u001b[0m\u001b[32mPage 8 (276) loaded.\u001b[0m\u001b[32mPage 9 (273) loaded.\u001b[0m\u001b[32mPage 10 (258) loaded.\u001b[0m\u001b[32mPage 11 (217) loaded.\u001b[0m\u001b[32mPage 12 (126) loaded.\u001b[0m\u001b[32mPage 13 (224) loaded.\u001b[0m\u001b[32mPage 14 (190) loaded.\u001b[0m\u001b[32mPage 15 (157) loaded.\u001b[0m\u001b[32mPage 16 (153) loaded.\u001b[0m\u001b[32mPage 17 (102) loaded.\u001b[0m"
     ]
    },
    {
     "name": "stderr",
     "output_type": "stream",
     "text": [
      "                                                                                                    \r"
     ]
    },
    {
     "name": "stdout",
     "output_type": "stream",
     "text": [
      "\u001b[31mDownloaded 1775 games and skipped 1775\u001b[0m\n",
      "\u001b[32mDownloading early-titled-tuesday-blitz-january-10-2023-3690113 games\u001b[0m\n",
      "\u001b[32mPage 2 (244) loaded.\u001b[0m\u001b[32mPage 3 (274) loaded.\u001b[0m\u001b[32mPage 4 (279) loaded.\u001b[0m\u001b[32mPage 5 (287) loaded.\u001b[0m\u001b[32mPage 6 (292) loaded.\u001b[0m\u001b[32mPage 7 (285) loaded.\u001b[0m\u001b[32mPage 8 (285) loaded.\u001b[0m\u001b[32mPage 9 (280) loaded.\u001b[0m\u001b[32mPage 10 (283) loaded.\u001b[0m\u001b[32mPage 11 (270) loaded.\u001b[0m\u001b[32mPage 12 (282) loaded.\u001b[0m\u001b[32mPage 13 (272) loaded.\u001b[0m\u001b[32mPage 14 (249) loaded.\u001b[0m\u001b[32mPage 15 (237) loaded.\u001b[0m\u001b[32mPage 16 (195) loaded.\u001b[0m\u001b[32mPage 17 (145) loaded.\u001b[0m\u001b[32mPage 18 (217) loaded.\u001b[0m\u001b[32mPage 19 (211) loaded.\u001b[0m\u001b[32mPage 20 (167) loaded.\u001b[0m\u001b[32mPage 21 (138) loaded.\u001b[0m\u001b[32mPage 22 (119) loaded.\u001b[0m\u001b[32mPage 23 (105) loaded.\u001b[0m"
     ]
    },
    {
     "name": "stderr",
     "output_type": "stream",
     "text": [
      "                                                                                                     \r"
     ]
    },
    {
     "name": "stdout",
     "output_type": "stream",
     "text": [
      "\u001b[31mDownloaded 2429 games and skipped 2429\u001b[0m\n",
      "\u001b[32mDownloading early-titled-tuesday-blitz-december-06-2022-3584184 games\u001b[0m\n",
      "\u001b[32mPage 2 (233) loaded.\u001b[0m\u001b[32mPage 3 (258) loaded.\u001b[0m\u001b[32mPage 4 (277) loaded.\u001b[0m\u001b[32mPage 5 (277) loaded.\u001b[0m\u001b[32mPage 6 (278) loaded.\u001b[0m\u001b[32mPage 7 (267) loaded.\u001b[0m\u001b[32mPage 8 (239) loaded.\u001b[0m\u001b[32mPage 9 (252) loaded.\u001b[0m\u001b[32mPage 10 (154) loaded.\u001b[0m\u001b[32mPage 11 (217) loaded.\u001b[0m\u001b[32mPage 12 (166) loaded.\u001b[0m\u001b[32mPage 13 (141) loaded.\u001b[0m\u001b[32mPage 14 (87) loaded.\u001b[0m"
     ]
    },
    {
     "name": "stderr",
     "output_type": "stream",
     "text": [
      "                                                                                                                 \r"
     ]
    },
    {
     "name": "stdout",
     "output_type": "stream",
     "text": [
      "\u001b[31mDownloaded 1381 games and skipped 369\u001b[0m\n",
      "\u001b[32mDownloading early-titled-tuesday-blitz-november-22-2022-3548065 games\u001b[0m\n",
      "\u001b[32mPage 2 (236) loaded.\u001b[0m\u001b[32mPage 3 (266) loaded.\u001b[0m\u001b[32mPage 4 (277) loaded.\u001b[0m\u001b[32mPage 5 (283) loaded.\u001b[0m\u001b[32mPage 6 (282) loaded.\u001b[0m\u001b[32mPage 7 (272) loaded.\u001b[0m\u001b[32mPage 8 (273) loaded.\u001b[0m\u001b[32mPage 9 (280) loaded.\u001b[0m\u001b[32mPage 10 (246) loaded.\u001b[0m\u001b[32mPage 11 (193) loaded.\u001b[0m\u001b[32mPage 12 (163) loaded.\u001b[0m\u001b[32mPage 13 (198) loaded.\u001b[0m\u001b[32mPage 14 (159) loaded.\u001b[0m\u001b[32mPage 15 (123) loaded.\u001b[0m\u001b[32mPage 16 (101) loaded.\u001b[0m"
     ]
    },
    {
     "name": "stderr",
     "output_type": "stream",
     "text": [
      "                                                                                                                 \r"
     ]
    },
    {
     "name": "stdout",
     "output_type": "stream",
     "text": [
      "\u001b[31mDownloaded 1615 games and skipped 0\u001b[0m\n",
      "\u001b[32mDownloading late-titled-tuesday-blitz-october-18-2022-3472300 games\u001b[0m\n",
      "\u001b[32mPage 2 (239) loaded.\u001b[0m\u001b[32mPage 3 (259) loaded.\u001b[0m\u001b[32mPage 4 (275) loaded.\u001b[0m\u001b[32mPage 5 (278) loaded.\u001b[0m\u001b[32mPage 6 (275) loaded.\u001b[0m\u001b[32mPage 7 (278) loaded.\u001b[0m\u001b[32mPage 8 (271) loaded.\u001b[0m\u001b[32mPage 9 (235) loaded.\u001b[0m\u001b[32mPage 10 (123) loaded.\u001b[0m\u001b[32mPage 11 (200) loaded.\u001b[0m\u001b[32mPage 12 (167) loaded.\u001b[0m\u001b[32mPage 13 (150) loaded.\u001b[0m\u001b[32mPage 14 (104) loaded.\u001b[0m"
     ]
    },
    {
     "name": "stderr",
     "output_type": "stream",
     "text": [
      "                                                                                                               \r"
     ]
    },
    {
     "name": "stdout",
     "output_type": "stream",
     "text": [
      "\u001b[31mDownloaded 1399 games and skipped 0\u001b[0m\n",
      "\u001b[32mDownloading late-titled-tuesday-blitz-november-15-2022-3534997 games\u001b[0m\n",
      "\u001b[32mPage 2 (241) loaded.\u001b[0m\u001b[32mPage 3 (264) loaded.\u001b[0m\u001b[32mPage 4 (271) loaded.\u001b[0m\u001b[32mPage 5 (280) loaded.\u001b[0m\u001b[32mPage 6 (282) loaded.\u001b[0m\u001b[32mPage 7 (275) loaded.\u001b[0m\u001b[32mPage 8 (225) loaded.\u001b[0m\u001b[32mPage 9 (162) loaded.\u001b[0m\u001b[32mPage 10 (197) loaded.\u001b[0m\u001b[32mPage 11 (204) loaded.\u001b[0m\u001b[32mPage 12 (164) loaded.\u001b[0m\u001b[32mPage 13 (126) loaded.\u001b[0m\u001b[32mPage 14 (98) loaded.\u001b[0m"
     ]
    },
    {
     "name": "stderr",
     "output_type": "stream",
     "text": [
      "                                                                                                                \r"
     ]
    },
    {
     "name": "stdout",
     "output_type": "stream",
     "text": [
      "\u001b[31mDownloaded 1357 games and skipped 0\u001b[0m\n",
      "\u001b[32mDownloading late-titled-tuesday-blitz-september-27-2022-3433030 games\u001b[0m\n",
      "\u001b[32mPage 2 (245) loaded.\u001b[0m\u001b[32mPage 3 (263) loaded.\u001b[0m\u001b[32mPage 4 (270) loaded.\u001b[0m\u001b[32mPage 5 (275) loaded.\u001b[0m\u001b[32mPage 6 (275) loaded.\u001b[0m\u001b[32mPage 7 (266) loaded.\u001b[0m\u001b[32mPage 8 (262) loaded.\u001b[0m\u001b[32mPage 9 (258) loaded.\u001b[0m\u001b[32mPage 10 (171) loaded.\u001b[0m\u001b[32mPage 11 (170) loaded.\u001b[0m\u001b[32mPage 12 (191) loaded.\u001b[0m\u001b[32mPage 13 (163) loaded.\u001b[0m\u001b[32mPage 14 (141) loaded.\u001b[0m\u001b[32mPage 15 (110) loaded.\u001b[0m"
     ]
    },
    {
     "name": "stderr",
     "output_type": "stream",
     "text": [
      "                                                                                                                 \r"
     ]
    },
    {
     "name": "stdout",
     "output_type": "stream",
     "text": [
      "\u001b[31mDownloaded 1493 games and skipped 0\u001b[0m\n",
      "\u001b[32mDownloading early-titled-tuesday-blitz-october-04-2022-3446088 games\u001b[0m\n",
      "\u001b[32mPage 2 (236) loaded.\u001b[0m\u001b[32mPage 3 (264) loaded.\u001b[0m\u001b[32mPage 4 (278) loaded.\u001b[0m\u001b[32mPage 5 (294) loaded.\u001b[0m\u001b[32mPage 6 (288) loaded.\u001b[0m\u001b[32mPage 7 (269) loaded.\u001b[0m\u001b[32mPage 8 (283) loaded.\u001b[0m\u001b[32mPage 9 (282) loaded.\u001b[0m\u001b[32mPage 10 (281) loaded.\u001b[0m\u001b[32mPage 11 (249) loaded.\u001b[0m\u001b[32mPage 12 (158) loaded.\u001b[0m\u001b[32mPage 13 (226) loaded.\u001b[0m\u001b[32mPage 14 (189) loaded.\u001b[0m\u001b[32mPage 15 (169) loaded.\u001b[0m\u001b[32mPage 16 (149) loaded.\u001b[0m\u001b[32mPage 17 (104) loaded.\u001b[0m"
     ]
    },
    {
     "name": "stderr",
     "output_type": "stream",
     "text": [
      "Games in early-titled-tuesday-blitz-october-04-2022-3446088:  41%|████▏     | 744/1797 [04:00<04:36,  3.81it/s]"
     ]
    }
   ],
   "source": [
    "for tournament in tournaments:\n",
    "    downloadTournament(tournament['url'], tournament['name'])"
   ]
  }
 ],
 "metadata": {
  "kernelspec": {
   "display_name": "Python 3",
   "language": "python",
   "name": "python3"
  },
  "language_info": {
   "codemirror_mode": {
    "name": "ipython",
    "version": 3
   },
   "file_extension": ".py",
   "mimetype": "text/x-python",
   "name": "python",
   "nbconvert_exporter": "python",
   "pygments_lexer": "ipython3",
   "version": "3.11.5"
  },
  "orig_nbformat": 4
 },
 "nbformat": 4,
 "nbformat_minor": 2
}
