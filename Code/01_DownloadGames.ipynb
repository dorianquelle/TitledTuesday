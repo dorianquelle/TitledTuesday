{
 "cells": [
  {
   "cell_type": "code",
   "execution_count": 3,
   "metadata": {},
   "outputs": [],
   "source": [
    "import json\n",
    "from tqdm import tqdm\n",
    "import requests\n",
    "from bs4 import BeautifulSoup\n",
    "import os\n",
    "import requests"
   ]
  },
  {
   "cell_type": "markdown",
   "metadata": {},
   "source": [
    "# Download All Tournament Games"
   ]
  },
  {
   "cell_type": "code",
   "execution_count": 181,
   "metadata": {},
   "outputs": [],
   "source": [
    "loaded_tournaments = {}\n",
    "for file in os.listdir(\"../Data/Games\"):\n",
    "    tournament = \"_\".join(file.split(\"_\")[0].split(\"-\")[:-1])\n",
    "    if tournament not in loaded_tournaments:\n",
    "        loaded_tournaments[tournament] = 0\n",
    "    loaded_tournaments[tournament] += 1"
   ]
  },
  {
   "cell_type": "code",
   "execution_count": 4,
   "metadata": {},
   "outputs": [],
   "source": [
    "def downloadTournament(link, tournament):\n",
    "    skipped = 0\n",
    "    print(\"\\033[32mDownloading {} games\\033[0m\".format(tournament))\n",
    "    \n",
    "    page = 1\n",
    "    all_games = set()\n",
    "\n",
    "    while True:\n",
    "        if page > 1000:\n",
    "            break\n",
    "        paginated_link = f\"{link}?&players={page}\"\n",
    "        ht = requests.get(paginated_link)\n",
    "        soup = BeautifulSoup(ht.content, 'html.parser')\n",
    "        hrefs = soup.find_all('a', href=True)\n",
    "        games = [x[\"href\"] for x in hrefs if \"game\" in x['href']]\n",
    "        games = set(games)\n",
    "        if len(games) == 0:\n",
    "            break\n",
    "        \n",
    "        # Check if all games are already in all_games\n",
    "        if all([x in all_games for x in games]):\n",
    "            break\n",
    "\n",
    "        # Add to all_games\n",
    "        all_games = all_games.union(games)\n",
    "        page += 1\n",
    "        print(f\"\\033[32mPage {page} ({len(games)}) loaded.\\033[0m\", end = \"\")\n",
    "\n",
    "    if len(all_games) == 0:\n",
    "        print(f\"\\033[31mNo games found for {tournament}\\033[0m\")\n",
    "        return\n",
    "\n",
    "    for game in tqdm(all_games, desc=f\"Games in {tournament}\", leave=False):\n",
    "        id = game.split(\"/\")[-1]\n",
    "        if os.path.exists(f\"../Data/Games/{tournament}_{id}.json\"):\n",
    "            skipped += 1\n",
    "            continue\n",
    "\n",
    "        first_game = \"https://www.chess.com/callback/live/game/\" + id\n",
    "        ht = requests.get(first_game)\n",
    "        game_data = ht.json()\n",
    "        with open(f\"../Data/Games/{tournament}_{id}.json\", \"w\") as f:\n",
    "            json.dump(game_data, f)\n",
    "\n",
    "    print(\"\\033[31mDownloaded {} games and skipped {}\\033[0m\".format(len(all_games), skipped))\n"
   ]
  },
  {
   "cell_type": "code",
   "execution_count": 5,
   "metadata": {},
   "outputs": [],
   "source": [
    "tournaments = []\n",
    "\n",
    "tournaments_link = f\"https://www.chess.com/tournament/live/titled-tuesdays?&page=\"\n",
    "for i in range(1,7):\n",
    "    ht = requests.get(tournaments_link + str(i))\n",
    "    soup = BeautifulSoup(ht.content, 'html.parser')\n",
    "    hrefs = soup.find_all('a', href=True)\n",
    "    links = [x[\"href\"] for x in hrefs if \"tournament\" in x['href'] and \"returnUrl\" not in x[\"href\"]]\n",
    "\n",
    "    for url in set(links):\n",
    "        if 'chess.com/tournament/live/' in url and 'titled-tuesday' in url:\n",
    "            parts = url.split('/')\n",
    "            name = parts[-1]\n",
    "            date = '-'.join(name.split('-')[-4:-1])\n",
    "            tournaments.append({'url': url, 'name': name, 'date': date})"
   ]
  },
  {
   "cell_type": "code",
   "execution_count": 10,
   "metadata": {},
   "outputs": [
    {
     "name": "stdout",
     "output_type": "stream",
     "text": [
      "\u001b[32mDownloading early-titled-tuesday-blitz-august-01-2023-4198579 games\u001b[0m\n",
      "\u001b[32mPage 2 (239) loaded.\u001b[0m\u001b[32mPage 3 (272) loaded.\u001b[0m\u001b[32mPage 4 (280) loaded.\u001b[0m\u001b[32mPage 5 (282) loaded.\u001b[0m\u001b[32mPage 6 (288) loaded.\u001b[0m\u001b[32mPage 7 (290) loaded.\u001b[0m\u001b[32mPage 8 (280) loaded.\u001b[0m\u001b[32mPage 9 (292) loaded.\u001b[0m\u001b[32mPage 10 (289) loaded.\u001b[0m\u001b[32mPage 11 (271) loaded.\u001b[0m\u001b[32mPage 12 (280) loaded.\u001b[0m\u001b[32mPage 13 (271) loaded.\u001b[0m\u001b[32mPage 14 (275) loaded.\u001b[0m\u001b[32mPage 15 (215) loaded.\u001b[0m\u001b[32mPage 16 (134) loaded.\u001b[0m\u001b[32mPage 17 (227) loaded.\u001b[0m\u001b[32mPage 18 (204) loaded.\u001b[0m\u001b[32mPage 19 (172) loaded.\u001b[0m\u001b[32mPage 20 (190) loaded.\u001b[0m\u001b[32mPage 21 (155) loaded.\u001b[0m\u001b[32mPage 22 (106) loaded.\u001b[0m\u001b[32mPage 23 (109) loaded.\u001b[0m"
     ]
    },
    {
     "name": "stderr",
     "output_type": "stream",
     "text": [
      "                                                                                                    \r"
     ]
    },
    {
     "name": "stdout",
     "output_type": "stream",
     "text": [
      "\u001b[31mDownloaded 2439 games and skipped 2439\u001b[0m\n",
      "\u001b[32mDownloading late-titled-tuesday-blitz-august-15-2023-4225474 games\u001b[0m\n",
      "\u001b[32mPage 2 (240) loaded.\u001b[0m\u001b[32mPage 3 (271) loaded.\u001b[0m\u001b[32mPage 4 (273) loaded.\u001b[0m\u001b[32mPage 5 (281) loaded.\u001b[0m\u001b[32mPage 6 (277) loaded.\u001b[0m\u001b[32mPage 7 (284) loaded.\u001b[0m\u001b[32mPage 8 (273) loaded.\u001b[0m\u001b[32mPage 9 (266) loaded.\u001b[0m\u001b[32mPage 10 (227) loaded.\u001b[0m\u001b[32mPage 11 (159) loaded.\u001b[0m\u001b[32mPage 12 (210) loaded.\u001b[0m\u001b[32mPage 13 (183) loaded.\u001b[0m\u001b[32mPage 14 (174) loaded.\u001b[0m\u001b[32mPage 15 (120) loaded.\u001b[0m\u001b[32mPage 16 (96) loaded.\u001b[0m"
     ]
    },
    {
     "name": "stderr",
     "output_type": "stream",
     "text": [
      "                                                                                                   \r"
     ]
    },
    {
     "name": "stdout",
     "output_type": "stream",
     "text": [
      "\u001b[31mDownloaded 1625 games and skipped 1625\u001b[0m\n",
      "\u001b[32mDownloading early-titled-tuesday-blitz-september-05-2023-4265728 games\u001b[0m\n",
      "\u001b[32mPage 2 (245) loaded.\u001b[0m\u001b[32mPage 3 (275) loaded.\u001b[0m\u001b[32mPage 4 (281) loaded.\u001b[0m\u001b[32mPage 5 (290) loaded.\u001b[0m\u001b[32mPage 6 (290) loaded.\u001b[0m\u001b[32mPage 7 (289) loaded.\u001b[0m\u001b[32mPage 8 (281) loaded.\u001b[0m\u001b[32mPage 9 (280) loaded.\u001b[0m\u001b[32mPage 10 (289) loaded.\u001b[0m\u001b[32mPage 11 (277) loaded.\u001b[0m\u001b[32mPage 12 (272) loaded.\u001b[0m\u001b[32mPage 13 (263) loaded.\u001b[0m\u001b[32mPage 14 (273) loaded.\u001b[0m\u001b[32mPage 15 (219) loaded.\u001b[0m\u001b[32mPage 16 (148) loaded.\u001b[0m\u001b[32mPage 17 (173) loaded.\u001b[0m\u001b[32mPage 18 (233) loaded.\u001b[0m\u001b[32mPage 19 (198) loaded.\u001b[0m\u001b[32mPage 20 (182) loaded.\u001b[0m\u001b[32mPage 21 (167) loaded.\u001b[0m\u001b[32mPage 22 (139) loaded.\u001b[0m\u001b[32mPage 23 (116) loaded.\u001b[0m\u001b[32mPage 24 (117) loaded.\u001b[0m\u001b[32mPage 25 (66) loaded.\u001b[0m"
     ]
    },
    {
     "name": "stderr",
     "output_type": "stream",
     "text": [
      "                                                                                                       \r"
     ]
    },
    {
     "name": "stdout",
     "output_type": "stream",
     "text": [
      "\u001b[31mDownloaded 2539 games and skipped 2539\u001b[0m\n",
      "\u001b[32mDownloading early-titled-tuesday-blitz-august-08-2023-4212115 games\u001b[0m\n",
      "\u001b[32mPage 2 (245) loaded.\u001b[0m\u001b[32mPage 3 (271) loaded.\u001b[0m\u001b[32mPage 4 (276) loaded.\u001b[0m\u001b[32mPage 5 (284) loaded.\u001b[0m\u001b[32mPage 6 (292) loaded.\u001b[0m\u001b[32mPage 7 (291) loaded.\u001b[0m\u001b[32mPage 8 (286) loaded.\u001b[0m\u001b[32mPage 9 (281) loaded.\u001b[0m\u001b[32mPage 10 (284) loaded.\u001b[0m\u001b[32mPage 11 (278) loaded.\u001b[0m\u001b[32mPage 12 (283) loaded.\u001b[0m\u001b[32mPage 13 (290) loaded.\u001b[0m\u001b[32mPage 14 (252) loaded.\u001b[0m\u001b[32mPage 15 (231) loaded.\u001b[0m\u001b[32mPage 16 (190) loaded.\u001b[0m\u001b[32mPage 17 (110) loaded.\u001b[0m\u001b[32mPage 18 (225) loaded.\u001b[0m\u001b[32mPage 19 (210) loaded.\u001b[0m\u001b[32mPage 20 (197) loaded.\u001b[0m\u001b[32mPage 21 (162) loaded.\u001b[0m"
     ]
    }
   ],
   "source": [
    "for tournament in tournaments:\n",
    "    downloadTournament(tournament['url'], tournament['name'])"
   ]
  }
 ],
 "metadata": {
  "kernelspec": {
   "display_name": "Python 3",
   "language": "python",
   "name": "python3"
  },
  "language_info": {
   "codemirror_mode": {
    "name": "ipython",
    "version": 3
   },
   "file_extension": ".py",
   "mimetype": "text/x-python",
   "name": "python",
   "nbconvert_exporter": "python",
   "pygments_lexer": "ipython3",
   "version": "3.11.5"
  },
  "orig_nbformat": 4
 },
 "nbformat": 4,
 "nbformat_minor": 2
}
