{
 "cells": [
  {
   "cell_type": "code",
   "execution_count": 1,
   "metadata": {},
   "outputs": [],
   "source": [
    "import os\n",
    "import json\n",
    "import time\n",
    "import chess\n",
    "import chess\n",
    "import chess.engine\n",
    "import pandas as pd\n",
    "import matplotlib.pyplot as plt\n",
    "from tqdm import tqdm\n",
    "import os\n",
    "import json\n",
    "from chess_analysis import extract_score, evaluate_moves, decode, process_game, should_process_file\n",
    "import hashlib"
   ]
  },
  {
   "cell_type": "code",
   "execution_count": 2,
   "metadata": {},
   "outputs": [
    {
     "name": "stdout",
     "output_type": "stream",
     "text": [
      "Overwriting chess_analysis.py\n"
     ]
    }
   ],
   "source": [
    "%%file chess_analysis.py\n",
    "import os\n",
    "import json\n",
    "import time\n",
    "import chess\n",
    "import chess.engine\n",
    "import pandas as pd\n",
    "import matplotlib.pyplot as plt\n",
    "from tqdm import tqdm\n",
    "import os\n",
    "import json\n",
    "import hashlib\n",
    "\n",
    "engine_path = \"/opt/homebrew/bin/stockfish\"\n",
    "\n",
    "\n",
    "def extract_score(score_obj):\n",
    "    if score_obj.is_mate():\n",
    "        # Return 99 or -99 depending on the sign of the mate count\n",
    "        return 99 if score_obj.white().mate() > 0 else -99\n",
    "    else:\n",
    "        # Convert centipawn score to regular pawn units\n",
    "        return score_obj.white().score() / 100\n",
    "\n",
    "def evaluate_moves(moves, engine_path, multi_pv_lines=5, thinking_time=1):\n",
    "    try:\n",
    "        board = chess.Board()\n",
    "        engine = chess.engine.SimpleEngine.popen_uci(engine_path)\n",
    "\n",
    "        evaluations = []\n",
    "\n",
    "        for move in tqdm(moves):\n",
    "            # Construct the UCI string, considering pawn promotions\n",
    "            uci_move = move['from'] + move['to']\n",
    "            if 'promotion' in move:\n",
    "                uci_move += move['promotion'].lower()\n",
    "\n",
    "            # Find the number of legal moves in the position\n",
    "            legal_moves_count = len(list(board.legal_moves))\n",
    "\n",
    "            # Analyse the position to the desired depth with multi-PV\n",
    "            multi_pv_result = engine.analyse(board, chess.engine.Limit(time=thinking_time), multipv=min(multi_pv_lines, legal_moves_count))\n",
    "\n",
    "            # Extract the moves and evaluations from the engine's output\n",
    "            pv_moves = [info.get('pv')[0] for info in multi_pv_result if info.get('pv')]\n",
    "            pv_evals = [extract_score(info.get('score')) for info in multi_pv_result]\n",
    "\n",
    "            # If the actual move is in the top multi-PV lines, get its rank and eval, otherwise set them to -1\n",
    "            actual_move = board.push_uci(uci_move)\n",
    "\n",
    "            if actual_move in pv_moves:\n",
    "                rank = pv_moves.index(actual_move) + 1\n",
    "                actual_eval = pv_evals[pv_moves.index(actual_move)]\n",
    "            else:\n",
    "                rank = -1\n",
    "                actual = engine.analyse(board, chess.engine.Limit(time=thinking_time))\n",
    "                actual_eval = extract_score(actual['score'])\n",
    "\n",
    "            best_move = pv_moves[0]\n",
    "            best_eval = pv_evals[0]\n",
    "\n",
    "            evaluations.append({\n",
    "                'Best Move': best_move,\n",
    "                'Best Move Eval': best_eval,\n",
    "                'Ranking Real Move': rank,\n",
    "                'Real Move Eval': actual_eval\n",
    "            })\n",
    "\n",
    "        engine.quit()\n",
    "        return evaluations\n",
    "    except Exception as e:\n",
    "        print(e)\n",
    "        engine.quit()\n",
    "        return None\n",
    "\n",
    "\n",
    "T = \"abcdefghijklmnopqrstuvwxyzABCDEFGHIJKLMNOPQRSTUVWXYZ0123456789!?{~}(^)[_]@#$,./&-*++=\"\n",
    "\n",
    "def decode(e):\n",
    "    f = []\n",
    "    g = len(e)\n",
    "    for c in range(0, g, 2):\n",
    "        d = {}\n",
    "        b = T.index(e[c])\n",
    "        a = T.index(e[c + 1])\n",
    "        if a > 63:\n",
    "            d[\"promotion\"] = \"qnrbkp\"[int((a - 64) / 3)]\n",
    "            a = b + (-8 if b < 16 else 8) + (a - 1) % 3 - 1\n",
    "        if b > 75:\n",
    "            d[\"drop\"] = \"qnrbkp\"[b - 79]\n",
    "        else:\n",
    "            d[\"from\"] = T[b % 8] + str(int(b / 8) + 1)\n",
    "        d[\"to\"] = T[a % 8] + str(int(a / 8) + 1)\n",
    "        f.append(d)\n",
    "    return f\n",
    "\n",
    "def process_game(game, engine_path, multi_pv_lines=5, thinking_time=1):\n",
    "    new_filename = game[:-5] + \"_analysed.json\"  # Assuming '.json' extension for the original game files\n",
    "    if os.path.exists(\"../Data/Analysed/\" + new_filename):\n",
    "        return\n",
    "    # Load game data\n",
    "    with open(\"../Data/Games/\" + game) as f:\n",
    "        game_json = json.load(f)\n",
    "\n",
    "    enc_movelist = game_json[\"game\"][\"moveList\"]\n",
    "    movelist = decode(enc_movelist)\n",
    "    evaluation = evaluate_moves(movelist, engine_path, multi_pv_lines=multi_pv_lines, thinking_time=thinking_time)\n",
    "    if not evaluation:\n",
    "        print(f\"Error evaluating game {game}. Skipping...\")\n",
    "        return\n",
    "    # Modify the evaluation dictionaries\n",
    "    for index, eval_dict in enumerate(evaluation):\n",
    "        eval_dict[\"Best Move\"] = eval_dict[\"Best Move\"].uci()  # Convert chess.Move to string\n",
    "        eval_dict[\"plycount\"] = index + 1\n",
    "        eval_dict[\"player\"] = \"white\" if eval_dict[\"plycount\"] % 2 == 1 else \"black\"\n",
    "        eval_dict[\"difference\"] = eval_dict[\"Real Move Eval\"] - eval_dict[\"Best Move Eval\"]\n",
    "        eval_dict[\"difference\"] *= -1 if eval_dict[\"player\"] == \"white\" else 1\n",
    "\n",
    "    # Append evaluations and additional metadata to the game's JSON\n",
    "    game_json[\"evaluations\"] = evaluation\n",
    "    game_json[\"multi_pv_lines\"] = multi_pv_lines\n",
    "    game_json[\"thinking_time\"] = thinking_time\n",
    "    game_json[\"timestamp\"] = int(time.time())\n",
    "\n",
    "    # Write to a new file\n",
    "    with open(\"../Data/Analysed/\" + new_filename, \"w\") as f:\n",
    "        json.dump(game_json, f, indent=4)\n",
    "\n",
    "def should_process_file(filename,precomputed, modulus_target=0):\n",
    "    \"\"\"\n",
    "    Hashes the filename and checks the modulus against the modulus_target.\n",
    "    If they match, returns True; otherwise returns False.\n",
    "    a = should return ca978112ca1bbdcafac231b39a23dc4da786eff8147c4e72b9807785afee48bb\n",
    "    \"\"\"\n",
    "    if filename in precomputed:\n",
    "        return False\n",
    "    m = hashlib.sha256()\n",
    "    m.update(filename.encode('utf-8'))\n",
    "    hex_result = m.hexdigest()\n",
    "    return int(hex_result, 16) % 2 == modulus_target\n",
    "\n",
    "def process_game_helper(args):\n",
    "    process_game(*args)"
   ]
  },
  {
   "cell_type": "code",
   "execution_count": 3,
   "metadata": {},
   "outputs": [],
   "source": [
    "# Load precompuetd files from ../Data/filenames.txt\n",
    "precomputed = []\n",
    "with open(\"../Data/filenames.txt\") as f:\n",
    "    for line in f:\n",
    "        precomputed.append(line.replace(\"_analysed\",\"\").strip())\n",
    "precomputed = set(precomputed)"
   ]
  },
  {
   "cell_type": "code",
   "execution_count": 4,
   "metadata": {},
   "outputs": [
    {
     "name": "stdout",
     "output_type": "stream",
     "text": [
      "Processing 32839 games...\n"
     ]
    },
    {
     "name": "stderr",
     "output_type": "stream",
     "text": [
      "0it [00:00, ?it/s]/139 [00:00<?, ?it/s]\n"
     ]
    },
    {
     "name": "stdout",
     "output_type": "stream",
     "text": [
      "Error evaluating game late-titled-tuesday-blitz-april-11-2023-3961659_74987644705.json. Skipping...\n"
     ]
    },
    {
     "name": "stderr",
     "output_type": "stream",
     "text": [
      "0it [00:00, ?it/s]\n"
     ]
    },
    {
     "name": "stdout",
     "output_type": "stream",
     "text": [
      "Error evaluating game early-titled-tuesday-blitz-july-11-2023-4158385_82833611587.json. Skipping...\n"
     ]
    },
    {
     "name": "stderr",
     "output_type": "stream",
     "text": [
      "0it [00:00, ?it/s]\n"
     ]
    },
    {
     "name": "stdout",
     "output_type": "stream",
     "text": [
      "Error evaluating game early-titled-tuesday-blitz-april-04-2023-3947951_74364172205.json. Skipping...\n"
     ]
    },
    {
     "name": "stderr",
     "output_type": "stream",
     "text": [
      "0it [00:00, ?it/s]\n",
      "  1%|          | 1/87 [00:01<01:26,  1.01s/it]]"
     ]
    },
    {
     "name": "stdout",
     "output_type": "stream",
     "text": [
      "Error evaluating game early-titled-tuesday-blitz-april-11-2023-3961658_74967825275.json. Skipping...\n"
     ]
    },
    {
     "name": "stderr",
     "output_type": "stream",
     "text": [
      "0it [00:00, ?it/s]\n"
     ]
    },
    {
     "name": "stdout",
     "output_type": "stream",
     "text": [
      "Error evaluating game late-titled-tuesday-blitz-february-07-2023-3796152_69549863117.json. Skipping...\n"
     ]
    },
    {
     "name": "stderr",
     "output_type": "stream",
     "text": [
      "100%|██████████| 48/48 [00:58<00:00,  1.22s/it]]\n",
      "100%|██████████| 58/58 [01:03<00:00,  1.09s/it]]\n",
      "100%|██████████| 87/87 [01:37<00:00,  1.12s/it]]\n",
      "100%|██████████| 92/92 [01:45<00:00,  1.15s/it]]\n",
      "100%|██████████| 91/91 [01:47<00:00,  1.18s/it]]\n",
      "100%|██████████| 90/90 [01:52<00:00,  1.25s/it]t]\n",
      "100%|██████████| 63/63 [01:08<00:00,  1.09s/it]t]\n",
      "100%|██████████| 124/124 [02:16<00:00,  1.10s/it]\n",
      "100%|██████████| 73/73 [01:23<00:00,  1.15s/it]t]\n",
      "100%|██████████| 141/141 [02:34<00:00,  1.09s/it]\n",
      "100%|██████████| 139/139 [02:39<00:00,  1.15s/it]\n",
      "100%|██████████| 150/150 [02:49<00:00,  1.13s/it]\n",
      "100%|██████████| 64/64 [01:12<00:00,  1.13s/it]]\n",
      "100%|██████████| 93/93 [01:41<00:00,  1.10s/it]t]\n",
      "100%|██████████| 58/58 [01:05<00:00,  1.13s/it]]]\n",
      "100%|██████████| 85/85 [01:36<00:00,  1.14s/it]t]\n",
      "100%|██████████| 116/116 [02:13<00:00,  1.15s/it]\n",
      "100%|██████████| 87/87 [01:47<00:00,  1.24s/it]]]\n",
      "100%|██████████| 89/89 [01:47<00:00,  1.21s/it]]]\n",
      "100%|██████████| 151/151 [02:52<00:00,  1.14s/it]\n",
      "100%|██████████| 119/119 [02:20<00:00,  1.18s/it]\n",
      "100%|██████████| 79/79 [01:23<00:00,  1.06s/it]t]\n",
      "100%|██████████| 112/112 [02:06<00:00,  1.13s/it]\n",
      "100%|██████████| 81/81 [01:32<00:00,  1.14s/it]]\n",
      "100%|██████████| 93/93 [01:51<00:00,  1.20s/it]t]\n",
      "100%|██████████| 83/83 [01:33<00:00,  1.13s/it]]]\n",
      "100%|██████████| 82/82 [01:38<00:00,  1.20s/it]]]\n",
      "100%|██████████| 165/165 [03:05<00:00,  1.12s/it]\n",
      "100%|██████████| 31/31 [00:33<00:00,  1.08s/it]]]\n",
      "100%|██████████| 100/100 [01:50<00:00,  1.11s/it]\n",
      "100%|██████████| 117/117 [02:26<00:00,  1.25s/it]\n",
      "100%|██████████| 66/66 [01:14<00:00,  1.13s/it]]\n",
      "100%|██████████| 88/88 [01:36<00:00,  1.09s/it]]\n",
      "100%|██████████| 85/85 [01:44<00:00,  1.23s/it]]\n",
      "100%|██████████| 99/99 [01:55<00:00,  1.17s/it]]\n",
      "100%|██████████| 64/64 [01:15<00:00,  1.18s/it]]\n",
      "100%|██████████| 128/128 [02:20<00:00,  1.09s/it]\n",
      "100%|██████████| 75/75 [01:20<00:00,  1.08s/it]]\n",
      "100%|██████████| 83/83 [01:37<00:00,  1.18s/it]]]\n",
      "100%|██████████| 113/113 [02:09<00:00,  1.14s/it]\n",
      "100%|██████████| 63/63 [01:08<00:00,  1.09s/it]]\n",
      "100%|██████████| 54/54 [01:06<00:00,  1.23s/it]]]\n",
      "100%|██████████| 120/120 [02:19<00:00,  1.16s/it]\n",
      "100%|██████████| 130/130 [02:30<00:00,  1.16s/it]\n",
      "100%|██████████| 104/104 [01:53<00:00,  1.09s/it]\n",
      "100%|██████████| 128/128 [02:22<00:00,  1.11s/it]\n",
      "100%|██████████| 52/52 [00:58<00:00,  1.12s/it]]\n",
      "100%|██████████| 51/51 [01:00<00:00,  1.18s/it]]\n",
      "100%|██████████| 97/97 [01:54<00:00,  1.18s/it]]\n",
      "100%|██████████| 65/65 [01:18<00:00,  1.21s/it]]\n",
      "100%|██████████| 82/82 [01:32<00:00,  1.13s/it]t]\n",
      "100%|██████████| 114/114 [02:13<00:00,  1.18s/it]\n",
      "100%|██████████| 34/34 [00:39<00:00,  1.15s/it]t]\n",
      "100%|██████████| 70/70 [01:18<00:00,  1.12s/it]t]\n",
      "100%|██████████| 78/78 [01:22<00:00,  1.06s/it]]]\n",
      "100%|██████████| 54/54 [01:04<00:00,  1.19s/it]]]\n",
      "100%|██████████| 167/167 [02:59<00:00,  1.07s/it]\n",
      "100%|██████████| 67/67 [01:12<00:00,  1.08s/it]]\n",
      "100%|██████████| 97/97 [01:51<00:00,  1.15s/it]]\n",
      "100%|██████████| 69/69 [01:21<00:00,  1.18s/it]]\n",
      "100%|██████████| 36/36 [00:49<00:00,  1.37s/it]]]\n",
      "100%|██████████| 44/44 [00:52<00:00,  1.19s/it]]]\n",
      "100%|██████████| 50/50 [00:57<00:00,  1.15s/it]]]\n",
      "100%|██████████| 35/35 [00:41<00:00,  1.18s/it]]]\n",
      "100%|██████████| 128/128 [02:41<00:00,  1.26s/it]\n",
      "100%|██████████| 23/23 [00:24<00:00,  1.05s/it]]\n",
      " 64%|██████▍   | 66/103 [01:14<00:42,  1.14s/it]"
     ]
    }
   ],
   "source": [
    "from multiprocessing import Pool\n",
    "from chess_analysis import process_game_helper\n",
    "import os \n",
    "import time \n",
    "\n",
    "def main():\n",
    "    engine_path = \"/opt/homebrew/bin/stockfish\"\n",
    "    games = [x for x in os.listdir(\"../Data/Games/\") if \"2023\" in x and should_process_file(x, precomputed, 0)]\n",
    "    print(f\"Processing {len(games)} games...\")\n",
    "    # Using 8 CPUs\n",
    "    num_processes = 10\n",
    "\n",
    "    start_time = time.time()\n",
    "\n",
    "    with Pool(processes=num_processes) as pool:\n",
    "        pool.map(process_game_helper, [(game, \"/opt/homebrew/bin/stockfish\") for game in games])\n",
    "\n",
    "    end_time = time.time()\n",
    "    print(f\"Finished processing in {end_time - start_time} seconds.\")\n",
    "\n",
    "if __name__ == \"__main__\":\n",
    "    main()\n"
   ]
  }
 ],
 "metadata": {
  "kernelspec": {
   "display_name": "Python 3",
   "language": "python",
   "name": "python3"
  },
  "language_info": {
   "codemirror_mode": {
    "name": "ipython",
    "version": 3
   },
   "file_extension": ".py",
   "mimetype": "text/x-python",
   "name": "python",
   "nbconvert_exporter": "python",
   "pygments_lexer": "ipython3",
   "version": "3.11.5"
  },
  "orig_nbformat": 4
 },
 "nbformat": 4,
 "nbformat_minor": 2
}
