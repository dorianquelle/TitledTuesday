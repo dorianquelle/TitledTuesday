{
 "cells": [
  {
   "cell_type": "code",
   "execution_count": null,
   "metadata": {},
   "outputs": [],
   "source": [
    "def downloadTournament(link, tournament):\n",
    "    skipped = 0\n",
    "    print(\"\\033[32mDownloading {} games\\033[0m\".format(tournament))\n",
    "    ht = requests.get(link)\n",
    "    soup = BeautifulSoup(ht.content, 'html.parser')\n",
    "    hrefs = soup.find_all('a', href=True)\n",
    "    games = [x[\"href\"] for x in hrefs if \"game\" in x['href']]\n",
    "    if len(games) == 0:\n",
    "        print(f\"\\033[31mNo games found for {tournament}\\033[0m\")\n",
    "        return\n",
    "    for game in tqdm(games):\n",
    "        id = game.split(\"/\")[-1]\n",
    "        if os.path.exists(f\"../Data/Games/{tournament}_{id}.json\"):\n",
    "            skipped += 1\n",
    "            continue\n",
    "\n",
    "        first_game = \"https://www.chess.com/callback/live/game/\" + id\n",
    "        ht = requests.get(first_game)\n",
    "        game_data = ht.json()\n",
    "        with open(f\"../Data/Games/{tournament}_{id}.json\", \"w\") as f:\n",
    "            json.dump(game_data, f)\n",
    "    print(\"\\033[31mDownloaded {} games and skipped {}\\033[0m\".format(len(games), skipped))\n",
    "\n",
    "link = \"https://www.chess.com/tournament/live/late-titled-tuesday-blitz-september-12-2023-4265731\""
   ]
  },
  {
   "cell_type": "code",
   "execution_count": 1,
   "metadata": {},
   "outputs": [
    {
     "ename": "KeyboardInterrupt",
     "evalue": "",
     "output_type": "error",
     "traceback": [
      "\u001b[0;31m---------------------------------------------------------------------------\u001b[0m",
      "\u001b[0;31mKeyboardInterrupt\u001b[0m                         Traceback (most recent call last)",
      "\u001b[1;32m/Users/dorianquelle/Desktop/ChessEmbeddings/TitledAnalysis/Code/99_trash.ipynb Cell 2\u001b[0m line \u001b[0;36m3\n\u001b[1;32m     <a href='vscode-notebook-cell:/Users/dorianquelle/Desktop/ChessEmbeddings/TitledAnalysis/Code/99_trash.ipynb#W0sZmlsZQ%3D%3D?line=26'>27</a>\u001b[0m             num_files \u001b[39m=\u001b[39m file_counts[\u001b[39m-\u001b[39m\u001b[39m1\u001b[39m] \u001b[39m-\u001b[39m file_counts[\u001b[39m-\u001b[39m\u001b[39m1\u001b[39m \u001b[39m-\u001b[39m UPDATE_INTERVAL]\n\u001b[1;32m     <a href='vscode-notebook-cell:/Users/dorianquelle/Desktop/ChessEmbeddings/TitledAnalysis/Code/99_trash.ipynb#W0sZmlsZQ%3D%3D?line=27'>28</a>\u001b[0m             os\u001b[39m.\u001b[39msystem(\u001b[39mf\u001b[39m\u001b[39m'\u001b[39m\u001b[39msay \u001b[39m\u001b[39m\"\u001b[39m\u001b[39mEverything is fine. \u001b[39m\u001b[39m{\u001b[39;00mnum_files\u001b[39m}\u001b[39;00m\u001b[39m new files in the last \u001b[39m\u001b[39m{\u001b[39;00mSLEEP_INTERVAL_SECONDS\u001b[39m}\u001b[39;00m\u001b[39m seconds.\u001b[39m\u001b[39m\"\u001b[39m\u001b[39m'\u001b[39m)\n\u001b[0;32m---> <a href='vscode-notebook-cell:/Users/dorianquelle/Desktop/ChessEmbeddings/TitledAnalysis/Code/99_trash.ipynb#W0sZmlsZQ%3D%3D?line=29'>30</a>\u001b[0m check_files(\u001b[39m'\u001b[39;49m\u001b[39m../Data/Analysed\u001b[39;49m\u001b[39m'\u001b[39;49m)\n",
      "\u001b[1;32m/Users/dorianquelle/Desktop/ChessEmbeddings/TitledAnalysis/Code/99_trash.ipynb Cell 2\u001b[0m line \u001b[0;36m1\n\u001b[1;32m     <a href='vscode-notebook-cell:/Users/dorianquelle/Desktop/ChessEmbeddings/TitledAnalysis/Code/99_trash.ipynb#W0sZmlsZQ%3D%3D?line=16'>17</a>\u001b[0m file_counts \u001b[39m=\u001b[39m [get_num_files(directory)]\n\u001b[1;32m     <a href='vscode-notebook-cell:/Users/dorianquelle/Desktop/ChessEmbeddings/TitledAnalysis/Code/99_trash.ipynb#W0sZmlsZQ%3D%3D?line=17'>18</a>\u001b[0m \u001b[39mwhile\u001b[39;00m \u001b[39mTrue\u001b[39;00m:\n\u001b[0;32m---> <a href='vscode-notebook-cell:/Users/dorianquelle/Desktop/ChessEmbeddings/TitledAnalysis/Code/99_trash.ipynb#W0sZmlsZQ%3D%3D?line=18'>19</a>\u001b[0m     time\u001b[39m.\u001b[39msleep(SLEEP_INTERVAL_SECONDS)\n\u001b[1;32m     <a href='vscode-notebook-cell:/Users/dorianquelle/Desktop/ChessEmbeddings/TitledAnalysis/Code/99_trash.ipynb#W0sZmlsZQ%3D%3D?line=19'>20</a>\u001b[0m     file_counts\u001b[39m.\u001b[39mappend(get_num_files(directory))\n\u001b[1;32m     <a href='vscode-notebook-cell:/Users/dorianquelle/Desktop/ChessEmbeddings/TitledAnalysis/Code/99_trash.ipynb#W0sZmlsZQ%3D%3D?line=21'>22</a>\u001b[0m     \u001b[39mif\u001b[39;00m file_counts[\u001b[39m-\u001b[39m\u001b[39m1\u001b[39m] \u001b[39m==\u001b[39m file_counts[\u001b[39m-\u001b[39m\u001b[39m2\u001b[39m]:\n",
      "\u001b[0;31mKeyboardInterrupt\u001b[0m: "
     ]
    }
   ],
   "source": [
    "import os\n",
    "import time\n",
    "import matplotlib.pyplot as plt\n",
    "import time\n",
    "import os\n",
    "\n",
    "SLEEP_INTERVAL_SECONDS = 300  # 10 minutes\n",
    "UPDATE_INTERVAL = 1  # After every cycle\n",
    "\n",
    "def get_num_files(directory):\n",
    "    return len([name for name in os.listdir(directory) if os.path.isfile(os.path.join(directory, name))])\n",
    "\n",
    "def beep():\n",
    "    os.system('say \"There is a problem in the Data Processing. Please take care, Dorian.\"')\n",
    "\n",
    "def check_files(directory):\n",
    "    file_counts = [get_num_files(directory)]\n",
    "    while True:\n",
    "        time.sleep(SLEEP_INTERVAL_SECONDS)\n",
    "        file_counts.append(get_num_files(directory))\n",
    "        \n",
    "        if file_counts[-1] == file_counts[-2]:\n",
    "            beep()\n",
    "            os.system(f'say \"No new files in the last {SLEEP_INTERVAL_SECONDS} seconds. Please check the Data Processing.\"')\n",
    "\n",
    "        if len(file_counts) % UPDATE_INTERVAL == 0:\n",
    "            num_files = file_counts[-1] - file_counts[-1 - UPDATE_INTERVAL]\n",
    "            os.system(f'say \"Everything is fine. {num_files} new files in the last {SLEEP_INTERVAL_SECONDS} seconds.\"')\n",
    "\n",
    "check_files('../Data/Analysed')\n"
   ]
  }
 ],
 "metadata": {
  "kernelspec": {
   "display_name": "Python 3",
   "language": "python",
   "name": "python3"
  },
  "language_info": {
   "codemirror_mode": {
    "name": "ipython",
    "version": 3
   },
   "file_extension": ".py",
   "mimetype": "text/x-python",
   "name": "python",
   "nbconvert_exporter": "python",
   "pygments_lexer": "ipython3",
   "version": "3.11.5"
  },
  "orig_nbformat": 4
 },
 "nbformat": 4,
 "nbformat_minor": 2
}
