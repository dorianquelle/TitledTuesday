{
 "cells": [
  {
   "cell_type": "code",
   "execution_count": 2,
   "metadata": {},
   "outputs": [],
   "source": [
    "import os\n",
    "import json \n",
    "import os\n",
    "import json\n",
    "from tqdm import tqdm\n",
    "import pickle"
   ]
  },
  {
   "cell_type": "code",
   "execution_count": 3,
   "metadata": {},
   "outputs": [],
   "source": [
    "T = \"abcdefghijklmnopqrstuvwxyzABCDEFGHIJKLMNOPQRSTUVWXYZ0123456789!?{~}(^)[_]@#$,./&-*++=\"\n",
    "\n",
    "def decode(e):\n",
    "    f = []\n",
    "    g = len(e)\n",
    "    for c in range(0, g, 2):\n",
    "        d = {}\n",
    "        b = T.index(e[c])\n",
    "        a = T.index(e[c + 1])\n",
    "        if a > 63:\n",
    "            d[\"promotion\"] = \"qnrbkp\"[int((a - 64) / 3)]\n",
    "            a = b + (-8 if b < 16 else 8) + (a - 1) % 3 - 1\n",
    "        if b > 75:\n",
    "            d[\"drop\"] = \"qnrbkp\"[b - 79]\n",
    "        else:\n",
    "            d[\"from\"] = T[b % 8] + str(int(b / 8) + 1)\n",
    "        d[\"to\"] = T[a % 8] + str(int(a / 8) + 1)\n",
    "        f.append(d)\n",
    "    return f"
   ]
  },
  {
   "cell_type": "code",
   "execution_count": 4,
   "metadata": {},
   "outputs": [],
   "source": [
    "class TreeNode:\n",
    "    def __init__(self, move=None):\n",
    "        self.move = move\n",
    "        self.children = {}\n",
    "        self.count = 1\n",
    "\n",
    "    def add_child(self, move):\n",
    "        if move not in self.children:\n",
    "            self.children[move] = TreeNode(move)\n",
    "        else:\n",
    "            self.children[move].count += 1\n",
    "        return self.children[move]\n",
    "\n",
    "    def get_child(self, move):\n",
    "        return self.children.get(move)\n",
    "\n",
    "    def __repr__(self):\n",
    "        return f\"Move: {self.move}, Count: {self.count}\"\n",
    "\n",
    "class ChessOpeningTree:\n",
    "    def __init__(self):\n",
    "        self.root = TreeNode(\"START\")\n",
    "\n",
    "    def add_game(self, moves):\n",
    "        current_node = self.root\n",
    "        for move in moves:\n",
    "            move_str = f\"{move['from']}->{move['to']}\"\n",
    "            current_node = current_node.add_child(move_str)\n",
    "\n",
    "    def __repr__(self):\n",
    "        return str(self.root)"
   ]
  },
  {
   "cell_type": "code",
   "execution_count": 5,
   "metadata": {},
   "outputs": [
    {
     "name": "stderr",
     "output_type": "stream",
     "text": [
      "100%|██████████| 144629/144629 [00:41<00:00, 3516.57it/s]\n"
     ]
    }
   ],
   "source": [
    "# Initialize the tree\n",
    "opening_tree = ChessOpeningTree()\n",
    "\n",
    "# Path to the directory containing the game files\n",
    "game_files_dir = \"../Data/Games\"\n",
    "\n",
    "# List all the game files\n",
    "game_files = os.listdir(game_files_dir)\n",
    "\n",
    "skipped = 0\n",
    "# Loop through each game file\n",
    "for file in tqdm(game_files):\n",
    "    with open(os.path.join(game_files_dir, file)) as f:\n",
    "        game_json = json.load(f)\n",
    "    if \"game\" not in game_json:\n",
    "        skipped += 1\n",
    "        continue   \n",
    "    # Extract the first 15 moves from each game\n",
    "    moves = decode(game_json[\"game\"][\"moveList\"])[:20]\n",
    "    opening_tree.add_game(moves)"
   ]
  },
  {
   "cell_type": "code",
   "execution_count": 7,
   "metadata": {},
   "outputs": [],
   "source": [
    "with open(\"../Data/opening_tree.pkl\", \"wb\") as f:\n",
    "    pickle.dump(opening_tree, f)"
   ]
  },
  {
   "cell_type": "code",
   "execution_count": 14,
   "metadata": {},
   "outputs": [
    {
     "data": {
      "text/plain": [
       "True"
      ]
     },
     "execution_count": 14,
     "metadata": {},
     "output_type": "execute_result"
    }
   ],
   "source": [
    "\"c2->c4\" in opening_tree.root.children"
   ]
  },
  {
   "cell_type": "code",
   "execution_count": 23,
   "metadata": {},
   "outputs": [
    {
     "data": {
      "text/plain": [
       "8136"
      ]
     },
     "execution_count": 23,
     "metadata": {},
     "output_type": "execute_result"
    }
   ],
   "source": [
    "opening_tree.root.children[\"c2->c4\"].count"
   ]
  },
  {
   "cell_type": "code",
   "execution_count": 30,
   "metadata": {},
   "outputs": [
    {
     "data": {
      "text/plain": [
       "{'e2->e4': {'count': 68467, 'rank': 1},\n",
       " 'e7->e5': {'count': 12711, 'rank': 2},\n",
       " 'g1->f3': {'count': 11013, 'rank': 1},\n",
       " 'b8->c6': {'count': 9128, 'rank': 1},\n",
       " 'f1->b5': {'count': 4103, 'rank': 1},\n",
       " 'g8->f6': {'count': 643, 'rank': 2},\n",
       " 'e1->g1': {'count': 311, 'rank': 1},\n",
       " 'f6->e4': {'count': 288, 'rank': 1},\n",
       " 'd2->d4': {'count': 140, 'rank': 2},\n",
       " 'e4->d6': {'count': 138, 'rank': 1},\n",
       " 'd4->e5': {'count': 46, 'rank': 2},\n",
       " 'd6->b5': {'count': 45, 'rank': 1},\n",
       " 'a2->a4': {'count': 45, 'rank': 1},\n",
       " 'b5->d4': {'count': 35, 'rank': 1},\n",
       " 'f3->d4': {'count': 35, 'rank': 1},\n",
       " 'c6->d4': {'count': 11, 'rank': 2},\n",
       " 'd1->d4': {'count': 11, 'rank': 1},\n",
       " 'd7->d5': {'count': 6, 'rank': 1},\n",
       " 'e5->d6': {'count': 5, 'rank': 1},\n",
       " 'd8->d6': {'count': 5, 'rank': 1},\n",
       " 'd4->e4': {'count': 0, 'rank': -1}}"
      ]
     },
     "execution_count": 30,
     "metadata": {},
     "output_type": "execute_result"
    }
   ],
   "source": [
    "def move_counts_from_graphml(moveList, tree):\n",
    "    # Load the graph from the saved GraphML file    \n",
    "    move_stats = {}\n",
    "    current_node = \"START\"\n",
    "    cur = opening_tree.root\n",
    "    depth = 0\n",
    "\n",
    "    for move in moveList:\n",
    "        move_str = f\"{move['from']}->{move['to']}\"\n",
    "        if move_str in cur.children:\n",
    "            move_stats[move_str] = {}\n",
    "            move_stats[move_str][\"count\"] = int(cur.children[move_str].count)  \n",
    "            move_stats[move_str][\"rank\"] = sorted(cur.children, key=lambda x: cur.children[x].count, reverse=True).index(move_str) + 1\n",
    "            cur = cur.children[move_str]\n",
    "            \n",
    "        else:\n",
    "            move_stats[move_str] = {}\n",
    "            move_stats[move_str][\"count\"] = 0\n",
    "            move_stats[move_str][\"rank\"] = -1\n",
    "\n",
    "            break\n",
    "        depth += 1\n",
    "    \n",
    "    return move_stats\n",
    "\n",
    "\n",
    "stafford_gambit_moves = [\n",
    "    {'from': 'e2', 'to': 'e4'},\n",
    "    {'from': 'e7', 'to': 'e5'},\n",
    "    {'from': 'g1', 'to': 'f3'},\n",
    "    {'from': 'g8', 'to': 'f6'},\n",
    "]\n",
    "\n",
    "# Given sequence of moves in algebraic notation\n",
    "moves_sequence = [\n",
    "    ('e2', 'e4'), ('e7', 'e5'),\n",
    "    ('g1', 'f3'), ('b8', 'c6'),\n",
    "    ('f1', 'b5'), ('g8', 'f6'),\n",
    "    ('e1', 'g1'), ('f6', 'e4'),\n",
    "    ('d2', 'd4'), ('e4', 'd6'),\n",
    "    ('d4', 'e5'), ('d6', 'b5'),\n",
    "    ('a2', 'a4'), ('b5', 'd4'),\n",
    "    ('f3', 'd4'), ('c6', 'd4'),\n",
    "    ('d1', 'd4'), ('d7', 'd5'),\n",
    "    ('e5', 'd6'), ('d8', 'd6'),  # e.p. stands for en passant, but it's not a separate move.\n",
    "    ('d4', 'e4'), ('d6', 'e6'),\n",
    "    ('e4', 'd4'), ('e6', 'd6'),\n",
    "    ('d4', 'e4'), ('d6', 'e6'),\n",
    "    ('e4', 'd4'), ('d6', 'd6')\n",
    "]\n",
    "\n",
    "# Convert to the specified move list format\n",
    "berlin = [{'from': start, 'to': end} for start, end in moves_sequence]\n",
    "move_counts_from_graphml(berlin,opening_tree)\n"
   ]
  }
 ],
 "metadata": {
  "kernelspec": {
   "display_name": "Python 3",
   "language": "python",
   "name": "python3"
  },
  "language_info": {
   "codemirror_mode": {
    "name": "ipython",
    "version": 3
   },
   "file_extension": ".py",
   "mimetype": "text/x-python",
   "name": "python",
   "nbconvert_exporter": "python",
   "pygments_lexer": "ipython3",
   "version": "3.11.5"
  },
  "orig_nbformat": 4
 },
 "nbformat": 4,
 "nbformat_minor": 2
}
