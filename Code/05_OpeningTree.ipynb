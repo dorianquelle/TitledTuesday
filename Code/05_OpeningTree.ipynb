{
 "cells": [
  {
   "cell_type": "code",
   "execution_count": 45,
   "metadata": {},
   "outputs": [],
   "source": [
    "import os\n",
    "import json \n",
    "import os\n",
    "import json\n",
    "from tqdm import tqdm\n",
    "import pickle"
   ]
  },
  {
   "cell_type": "code",
   "execution_count": 46,
   "metadata": {},
   "outputs": [],
   "source": [
    "T = \"abcdefghijklmnopqrstuvwxyzABCDEFGHIJKLMNOPQRSTUVWXYZ0123456789!?{~}(^)[_]@#$,./&-*++=\"\n",
    "\n",
    "def decode(e):\n",
    "    f = []\n",
    "    g = len(e)\n",
    "    for c in range(0, g, 2):\n",
    "        d = {}\n",
    "        b = T.index(e[c])\n",
    "        a = T.index(e[c + 1])\n",
    "        if a > 63:\n",
    "            d[\"promotion\"] = \"qnrbkp\"[int((a - 64) / 3)]\n",
    "            a = b + (-8 if b < 16 else 8) + (a - 1) % 3 - 1\n",
    "        if b > 75:\n",
    "            d[\"drop\"] = \"qnrbkp\"[b - 79]\n",
    "        else:\n",
    "            d[\"from\"] = T[b % 8] + str(int(b / 8) + 1)\n",
    "        d[\"to\"] = T[a % 8] + str(int(a / 8) + 1)\n",
    "        f.append(d)\n",
    "    return f"
   ]
  },
  {
   "cell_type": "code",
   "execution_count": 47,
   "metadata": {},
   "outputs": [],
   "source": [
    "class TreeNode:\n",
    "    def __init__(self, move=None):\n",
    "        self.move = move\n",
    "        self.children = {}\n",
    "        self.count = 1\n",
    "\n",
    "    def add_child(self, move):\n",
    "        if move not in self.children:\n",
    "            self.children[move] = TreeNode(move)\n",
    "        else:\n",
    "            self.children[move].count += 1\n",
    "        return self.children[move]\n",
    "\n",
    "    def get_child(self, move):\n",
    "        return self.children.get(move)\n",
    "\n",
    "    def __repr__(self):\n",
    "        return f\"Move: {self.move}, Count: {self.count}\"\n",
    "\n",
    "class ChessOpeningTree:\n",
    "    def __init__(self):\n",
    "        self.root = TreeNode(\"START\")\n",
    "\n",
    "    def add_game(self, moves):\n",
    "        current_node = self.root\n",
    "        for move in moves:\n",
    "            move_str = f\"{move['from']}->{move['to']}\"\n",
    "            current_node = current_node.add_child(move_str)\n",
    "\n",
    "    def __repr__(self):\n",
    "        return str(self.root)"
   ]
  },
  {
   "cell_type": "code",
   "execution_count": 48,
   "metadata": {},
   "outputs": [
    {
     "name": "stderr",
     "output_type": "stream",
     "text": [
      "100%|██████████| 217025/217025 [01:14<00:00, 2914.40it/s]\n"
     ]
    }
   ],
   "source": [
    "# Initialize the tree\n",
    "opening_tree = ChessOpeningTree()\n",
    "\n",
    "# Path to the directory containing the game files\n",
    "game_files_dir = \"../Data/Games\"\n",
    "\n",
    "# List all the game files\n",
    "game_files = os.listdir(game_files_dir)\n",
    "\n",
    "skipped = 0\n",
    "# Loop through each game file\n",
    "for file in tqdm(game_files):\n",
    "    with open(os.path.join(game_files_dir, file)) as f:\n",
    "        game_json = json.load(f)\n",
    "    if \"game\" not in game_json:\n",
    "        skipped += 1\n",
    "        continue   \n",
    "    # Extract the first 15 moves from each game\n",
    "    moves = decode(game_json[\"game\"][\"moveList\"])[:20]\n",
    "    opening_tree.add_game(moves)"
   ]
  },
  {
   "cell_type": "code",
   "execution_count": 49,
   "metadata": {},
   "outputs": [],
   "source": [
    "with open(\"../Data/opening_tree.pkl\", \"wb\") as f:\n",
    "    pickle.dump(opening_tree, f)"
   ]
  },
  {
   "cell_type": "code",
   "execution_count": 50,
   "metadata": {},
   "outputs": [
    {
     "name": "stdout",
     "output_type": "stream",
     "text": [
      "{'e2->e4': {'count': 101822, 'rank': 1}, 'e7->e5': {'count': 19371, 'rank': 2}, 'g1->f3': {'count': 16793, 'rank': 1}, 'g8->f6': {'count': 2165, 'rank': 2}}\n",
      "{'e2->e4': {'count': 101822, 'rank': 1}, 'e7->e5': {'count': 19371, 'rank': 2}, 'g1->f3': {'count': 16793, 'rank': 1}, 'b8->c6': {'count': 13854, 'rank': 1}, 'f1->b5': {'count': 6205, 'rank': 1}, 'g8->f6': {'count': 1021, 'rank': 2}, 'e1->g1': {'count': 512, 'rank': 1}, 'f6->e4': {'count': 479, 'rank': 1}, 'd2->d4': {'count': 257, 'rank': 1}, 'e4->d6': {'count': 254, 'rank': 1}, 'd4->e5': {'count': 80, 'rank': 2}, 'd6->b5': {'count': 79, 'rank': 1}, 'a2->a4': {'count': 79, 'rank': 1}, 'b5->d4': {'count': 57, 'rank': 1}, 'f3->d4': {'count': 57, 'rank': 1}, 'c6->d4': {'count': 18, 'rank': 2}, 'd1->d4': {'count': 18, 'rank': 1}, 'd7->d5': {'count': 11, 'rank': 1}, 'e5->d6': {'count': 9, 'rank': 1}, 'd8->d6': {'count': 9, 'rank': 1}, 'd4->e4': {'count': 0, 'rank': -1}}\n",
      "{'f2->f3': {'count': 60, 'rank': 18}, 'e7->e5': {'count': 17, 'rank': 2}, 'g2->g4': {'count': 1, 'rank': 5}, 'd8->h4': {'count': 1, 'rank': 1}}\n",
      "{'e2->e4': {'count': 101822, 'rank': 1}, 'c7->c5': {'count': 42393, 'rank': 1}, 'g1->f3': {'count': 30923, 'rank': 1}, 'd7->d6': {'count': 13010, 'rank': 1}, 'd2->d4': {'count': 8949, 'rank': 1}, 'c5->d4': {'count': 8719, 'rank': 1}, 'f3->d4': {'count': 7889, 'rank': 1}, 'g8->f6': {'count': 7798, 'rank': 1}, 'c2->c3': {'count': 2, 'rank': 6}, 'g7->g6': {'count': 0, 'rank': -1}}\n"
     ]
    }
   ],
   "source": [
    "def move_counts_from_graph(moveList, tree):\n",
    "    # Load the graph from the saved GraphML file    \n",
    "    move_stats = {}\n",
    "    current_node = \"START\"\n",
    "    cur = opening_tree.root\n",
    "    depth = 0\n",
    "\n",
    "    for move in moveList:\n",
    "        move_str = f\"{move['from']}->{move['to']}\"\n",
    "        if move_str in cur.children:\n",
    "            move_stats[move_str] = {}\n",
    "            move_stats[move_str][\"count\"] = int(cur.children[move_str].count)  \n",
    "            move_stats[move_str][\"rank\"] = sorted(cur.children, key=lambda x: cur.children[x].count, reverse=True).index(move_str) + 1\n",
    "            cur = cur.children[move_str]\n",
    "            \n",
    "        else:\n",
    "            move_stats[move_str] = {}\n",
    "            move_stats[move_str][\"count\"] = 0\n",
    "            move_stats[move_str][\"rank\"] = -1\n",
    "\n",
    "            break\n",
    "        depth += 1\n",
    "    \n",
    "    return move_stats\n",
    "\n",
    "\n",
    "stafford_gambit_moves = [\n",
    "    {'from': 'e2', 'to': 'e4'},\n",
    "    {'from': 'e7', 'to': 'e5'},\n",
    "    {'from': 'g1', 'to': 'f3'},\n",
    "    {'from': 'g8', 'to': 'f6'},\n",
    "]\n",
    "\n",
    "# Given sequence of moves in algebraic notation\n",
    "moves_sequence = [\n",
    "    ('e2', 'e4'), ('e7', 'e5'),\n",
    "    ('g1', 'f3'), ('b8', 'c6'),\n",
    "    ('f1', 'b5'), ('g8', 'f6'),\n",
    "    ('e1', 'g1'), ('f6', 'e4'),\n",
    "    ('d2', 'd4'), ('e4', 'd6'),\n",
    "    ('d4', 'e5'), ('d6', 'b5'),\n",
    "    ('a2', 'a4'), ('b5', 'd4'),\n",
    "    ('f3', 'd4'), ('c6', 'd4'),\n",
    "    ('d1', 'd4'), ('d7', 'd5'),\n",
    "    ('e5', 'd6'), ('d8', 'd6'),\n",
    "    ('d4', 'e4'), ('d6', 'e6'),\n",
    "    ('e4', 'd4'), ('e6', 'd6'),\n",
    "    ('d4', 'e4'), ('d6', 'e6'),\n",
    "    ('e4', 'd4'), ('d6', 'd6')\n",
    "]\n",
    "\n",
    "fools_mate_moves = [\n",
    "    {'from': 'f2', 'to': 'f3'},\n",
    "    {'from': 'e7', 'to': 'e5'},\n",
    "    {'from': 'g2', 'to': 'g4'},\n",
    "    {'from': 'd8', 'to': 'h4'},\n",
    "]\n",
    "\n",
    "# Siciilian Defense, Najdorf Variation\n",
    "# https://www.chess.com/openings/B90-Sicilian-Defense-Najdorf-Variation\n",
    "sicilian = [\n",
    "    ('e2', 'e4'), ('c7', 'c5'),\n",
    "    ('g1', 'f3'), ('d7', 'd6'),\n",
    "    ('d2', 'd4'), ('c5', 'd4'),\n",
    "    ('f3', 'd4'), ('g8', 'f6'),\n",
    "    ('c2', 'c3'), ('g7', 'g6')]\n",
    "\n",
    "# Convert to the specified move list format\n",
    "berlin = [{'from': start, 'to': end} for start, end in moves_sequence]\n",
    "sicilian = [{'from': start, 'to': end} for start, end in sicilian]\n",
    "\n",
    "print(move_counts_from_graph(stafford_gambit_moves,opening_tree))\n",
    "print(move_counts_from_graph(berlin,opening_tree))\n",
    "print(move_counts_from_graph(fools_mate_moves,opening_tree))\n",
    "print(move_counts_from_graph(sicilian,opening_tree))"
   ]
  }
 ],
 "metadata": {
  "kernelspec": {
   "display_name": "Python 3",
   "language": "python",
   "name": "python3"
  },
  "language_info": {
   "codemirror_mode": {
    "name": "ipython",
    "version": 3
   },
   "file_extension": ".py",
   "mimetype": "text/x-python",
   "name": "python",
   "nbconvert_exporter": "python",
   "pygments_lexer": "ipython3",
   "version": "3.11.5"
  },
  "orig_nbformat": 4
 },
 "nbformat": 4,
 "nbformat_minor": 2
}
